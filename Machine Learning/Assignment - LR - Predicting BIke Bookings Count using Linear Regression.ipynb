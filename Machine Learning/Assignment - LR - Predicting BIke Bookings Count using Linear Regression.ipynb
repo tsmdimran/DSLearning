{
 "cells": [
  {
   "cell_type": "markdown",
   "metadata": {},
   "source": [
    "## Bike Sharing Assignment\n",
    "\n",
    "#### Problem Statement:\n",
    "\n",
    "A US bike-sharing provider BoomBikes has a daily dataset on the rental bikes based on various environmental and seasonal settings. It wishes to use this data to understand the factors affecting the demand for these shared bikes in the American market and come up with a mindful business plan to able to accelerate its revenue as soon as the ongoing lockdown due to corona pandemic comes to end.\n",
    "\n",
    "Essentially, the company wants to know —\n",
    "\n",
    "\n",
    "- Which variables are significant in predicting the demand for shared bikes.\n",
    "- How well those variables describe the bike demands.\n"
   ]
  },
  {
   "cell_type": "markdown",
   "metadata": {},
   "source": [
    "#### Solution can be obtained using below steps\n",
    "\n",
    "1. Exploratory Data Analysis:\n",
    "    - Reason: We can get inferences when we perform EDA on the dataset\n",
    "    - Steps: Data Sourcing, Profiling, Cleansing, Handling Outliers, Univariate, bivariate and multivariate data analysis\n",
    "2. Linear Regression model:\n",
    "    - Reason: To predict the target variables using the available predictor variable. Also we can test the inferences made.\n",
    "    - Steps: Data Preperation, Model Building, Residual Analysis, Making Predictions and Model Evaluation\n",
    "    \n",
    "- We can also compare and validate if there is a match between inferences made in EDA and the linear regreassion model fit equation (variables and their coefficients). "
   ]
  },
  {
   "cell_type": "markdown",
   "metadata": {},
   "source": [
    "### Exploratory Data Analysis"
   ]
  },
  {
   "cell_type": "markdown",
   "metadata": {},
   "source": [
    "#### Importing Libraries and Data Sourcing\n",
    "\n",
    "Let us first import NumPy and Pandas and read the housing dataset"
   ]
  },
  {
   "cell_type": "code",
   "execution_count": 1,
   "metadata": {},
   "outputs": [],
   "source": [
    "# Importing warnings and libraries\n",
    "import warnings\n",
    "warnings.filterwarnings('ignore')\n",
    "import numpy as np\n",
    "import pandas as pd\n",
    "import matplotlib.pyplot as plt\n",
    "import seaborn as sns"
   ]
  },
  {
   "cell_type": "code",
   "execution_count": 2,
   "metadata": {},
   "outputs": [],
   "source": [
    "bike = pd.read_csv(\"day.csv\")"
   ]
  },
  {
   "cell_type": "markdown",
   "metadata": {},
   "source": [
    "#### Data Profiling"
   ]
  },
  {
   "cell_type": "code",
   "execution_count": 3,
   "metadata": {},
   "outputs": [
    {
     "data": {
      "text/html": [
       "<div>\n",
       "<style scoped>\n",
       "    .dataframe tbody tr th:only-of-type {\n",
       "        vertical-align: middle;\n",
       "    }\n",
       "\n",
       "    .dataframe tbody tr th {\n",
       "        vertical-align: top;\n",
       "    }\n",
       "\n",
       "    .dataframe thead th {\n",
       "        text-align: right;\n",
       "    }\n",
       "</style>\n",
       "<table border=\"1\" class=\"dataframe\">\n",
       "  <thead>\n",
       "    <tr style=\"text-align: right;\">\n",
       "      <th></th>\n",
       "      <th>instant</th>\n",
       "      <th>dteday</th>\n",
       "      <th>season</th>\n",
       "      <th>yr</th>\n",
       "      <th>mnth</th>\n",
       "      <th>holiday</th>\n",
       "      <th>weekday</th>\n",
       "      <th>workingday</th>\n",
       "      <th>weathersit</th>\n",
       "      <th>temp</th>\n",
       "      <th>atemp</th>\n",
       "      <th>hum</th>\n",
       "      <th>windspeed</th>\n",
       "      <th>casual</th>\n",
       "      <th>registered</th>\n",
       "      <th>cnt</th>\n",
       "    </tr>\n",
       "  </thead>\n",
       "  <tbody>\n",
       "    <tr>\n",
       "      <th>0</th>\n",
       "      <td>1</td>\n",
       "      <td>01-01-2018</td>\n",
       "      <td>1</td>\n",
       "      <td>0</td>\n",
       "      <td>1</td>\n",
       "      <td>0</td>\n",
       "      <td>1</td>\n",
       "      <td>1</td>\n",
       "      <td>2</td>\n",
       "      <td>14.110847</td>\n",
       "      <td>18.18125</td>\n",
       "      <td>80.5833</td>\n",
       "      <td>10.749882</td>\n",
       "      <td>331</td>\n",
       "      <td>654</td>\n",
       "      <td>985</td>\n",
       "    </tr>\n",
       "    <tr>\n",
       "      <th>1</th>\n",
       "      <td>2</td>\n",
       "      <td>02-01-2018</td>\n",
       "      <td>1</td>\n",
       "      <td>0</td>\n",
       "      <td>1</td>\n",
       "      <td>0</td>\n",
       "      <td>2</td>\n",
       "      <td>1</td>\n",
       "      <td>2</td>\n",
       "      <td>14.902598</td>\n",
       "      <td>17.68695</td>\n",
       "      <td>69.6087</td>\n",
       "      <td>16.652113</td>\n",
       "      <td>131</td>\n",
       "      <td>670</td>\n",
       "      <td>801</td>\n",
       "    </tr>\n",
       "    <tr>\n",
       "      <th>2</th>\n",
       "      <td>3</td>\n",
       "      <td>03-01-2018</td>\n",
       "      <td>1</td>\n",
       "      <td>0</td>\n",
       "      <td>1</td>\n",
       "      <td>0</td>\n",
       "      <td>3</td>\n",
       "      <td>1</td>\n",
       "      <td>1</td>\n",
       "      <td>8.050924</td>\n",
       "      <td>9.47025</td>\n",
       "      <td>43.7273</td>\n",
       "      <td>16.636703</td>\n",
       "      <td>120</td>\n",
       "      <td>1229</td>\n",
       "      <td>1349</td>\n",
       "    </tr>\n",
       "    <tr>\n",
       "      <th>3</th>\n",
       "      <td>4</td>\n",
       "      <td>04-01-2018</td>\n",
       "      <td>1</td>\n",
       "      <td>0</td>\n",
       "      <td>1</td>\n",
       "      <td>0</td>\n",
       "      <td>4</td>\n",
       "      <td>1</td>\n",
       "      <td>1</td>\n",
       "      <td>8.200000</td>\n",
       "      <td>10.60610</td>\n",
       "      <td>59.0435</td>\n",
       "      <td>10.739832</td>\n",
       "      <td>108</td>\n",
       "      <td>1454</td>\n",
       "      <td>1562</td>\n",
       "    </tr>\n",
       "    <tr>\n",
       "      <th>4</th>\n",
       "      <td>5</td>\n",
       "      <td>05-01-2018</td>\n",
       "      <td>1</td>\n",
       "      <td>0</td>\n",
       "      <td>1</td>\n",
       "      <td>0</td>\n",
       "      <td>5</td>\n",
       "      <td>1</td>\n",
       "      <td>1</td>\n",
       "      <td>9.305237</td>\n",
       "      <td>11.46350</td>\n",
       "      <td>43.6957</td>\n",
       "      <td>12.522300</td>\n",
       "      <td>82</td>\n",
       "      <td>1518</td>\n",
       "      <td>1600</td>\n",
       "    </tr>\n",
       "  </tbody>\n",
       "</table>\n",
       "</div>"
      ],
      "text/plain": [
       "   instant      dteday  season  yr  mnth  holiday  weekday  workingday  \\\n",
       "0        1  01-01-2018       1   0     1        0        1           1   \n",
       "1        2  02-01-2018       1   0     1        0        2           1   \n",
       "2        3  03-01-2018       1   0     1        0        3           1   \n",
       "3        4  04-01-2018       1   0     1        0        4           1   \n",
       "4        5  05-01-2018       1   0     1        0        5           1   \n",
       "\n",
       "   weathersit       temp     atemp      hum  windspeed  casual  registered  \\\n",
       "0           2  14.110847  18.18125  80.5833  10.749882     331         654   \n",
       "1           2  14.902598  17.68695  69.6087  16.652113     131         670   \n",
       "2           1   8.050924   9.47025  43.7273  16.636703     120        1229   \n",
       "3           1   8.200000  10.60610  59.0435  10.739832     108        1454   \n",
       "4           1   9.305237  11.46350  43.6957  12.522300      82        1518   \n",
       "\n",
       "    cnt  \n",
       "0   985  \n",
       "1   801  \n",
       "2  1349  \n",
       "3  1562  \n",
       "4  1600  "
      ]
     },
     "execution_count": 3,
     "metadata": {},
     "output_type": "execute_result"
    }
   ],
   "source": [
    "# Check the head of the dataset\n",
    "bike.head()"
   ]
  },
  {
   "cell_type": "markdown",
   "metadata": {},
   "source": [
    "Inspect the various aspects of the bike dataframe"
   ]
  },
  {
   "cell_type": "code",
   "execution_count": 4,
   "metadata": {},
   "outputs": [
    {
     "data": {
      "text/plain": [
       "(730, 16)"
      ]
     },
     "execution_count": 4,
     "metadata": {},
     "output_type": "execute_result"
    }
   ],
   "source": [
    "bike.shape"
   ]
  },
  {
   "cell_type": "code",
   "execution_count": 5,
   "metadata": {},
   "outputs": [
    {
     "name": "stdout",
     "output_type": "stream",
     "text": [
      "<class 'pandas.core.frame.DataFrame'>\n",
      "RangeIndex: 730 entries, 0 to 729\n",
      "Data columns (total 16 columns):\n",
      " #   Column      Non-Null Count  Dtype  \n",
      "---  ------      --------------  -----  \n",
      " 0   instant     730 non-null    int64  \n",
      " 1   dteday      730 non-null    object \n",
      " 2   season      730 non-null    int64  \n",
      " 3   yr          730 non-null    int64  \n",
      " 4   mnth        730 non-null    int64  \n",
      " 5   holiday     730 non-null    int64  \n",
      " 6   weekday     730 non-null    int64  \n",
      " 7   workingday  730 non-null    int64  \n",
      " 8   weathersit  730 non-null    int64  \n",
      " 9   temp        730 non-null    float64\n",
      " 10  atemp       730 non-null    float64\n",
      " 11  hum         730 non-null    float64\n",
      " 12  windspeed   730 non-null    float64\n",
      " 13  casual      730 non-null    int64  \n",
      " 14  registered  730 non-null    int64  \n",
      " 15  cnt         730 non-null    int64  \n",
      "dtypes: float64(4), int64(11), object(1)\n",
      "memory usage: 91.4+ KB\n"
     ]
    }
   ],
   "source": [
    "bike.info()"
   ]
  },
  {
   "cell_type": "code",
   "execution_count": 6,
   "metadata": {
    "scrolled": true
   },
   "outputs": [
    {
     "data": {
      "text/html": [
       "<div>\n",
       "<style scoped>\n",
       "    .dataframe tbody tr th:only-of-type {\n",
       "        vertical-align: middle;\n",
       "    }\n",
       "\n",
       "    .dataframe tbody tr th {\n",
       "        vertical-align: top;\n",
       "    }\n",
       "\n",
       "    .dataframe thead th {\n",
       "        text-align: right;\n",
       "    }\n",
       "</style>\n",
       "<table border=\"1\" class=\"dataframe\">\n",
       "  <thead>\n",
       "    <tr style=\"text-align: right;\">\n",
       "      <th></th>\n",
       "      <th>instant</th>\n",
       "      <th>season</th>\n",
       "      <th>yr</th>\n",
       "      <th>mnth</th>\n",
       "      <th>holiday</th>\n",
       "      <th>weekday</th>\n",
       "      <th>workingday</th>\n",
       "      <th>weathersit</th>\n",
       "      <th>temp</th>\n",
       "      <th>atemp</th>\n",
       "      <th>hum</th>\n",
       "      <th>windspeed</th>\n",
       "      <th>casual</th>\n",
       "      <th>registered</th>\n",
       "      <th>cnt</th>\n",
       "    </tr>\n",
       "  </thead>\n",
       "  <tbody>\n",
       "    <tr>\n",
       "      <th>count</th>\n",
       "      <td>730.000000</td>\n",
       "      <td>730.000000</td>\n",
       "      <td>730.000000</td>\n",
       "      <td>730.000000</td>\n",
       "      <td>730.000000</td>\n",
       "      <td>730.000000</td>\n",
       "      <td>730.000000</td>\n",
       "      <td>730.000000</td>\n",
       "      <td>730.000000</td>\n",
       "      <td>730.000000</td>\n",
       "      <td>730.000000</td>\n",
       "      <td>730.000000</td>\n",
       "      <td>730.000000</td>\n",
       "      <td>730.000000</td>\n",
       "      <td>730.000000</td>\n",
       "    </tr>\n",
       "    <tr>\n",
       "      <th>mean</th>\n",
       "      <td>365.500000</td>\n",
       "      <td>2.498630</td>\n",
       "      <td>0.500000</td>\n",
       "      <td>6.526027</td>\n",
       "      <td>0.028767</td>\n",
       "      <td>2.995890</td>\n",
       "      <td>0.690411</td>\n",
       "      <td>1.394521</td>\n",
       "      <td>20.319259</td>\n",
       "      <td>23.726322</td>\n",
       "      <td>62.765175</td>\n",
       "      <td>12.763620</td>\n",
       "      <td>849.249315</td>\n",
       "      <td>3658.757534</td>\n",
       "      <td>4508.006849</td>\n",
       "    </tr>\n",
       "    <tr>\n",
       "      <th>std</th>\n",
       "      <td>210.877136</td>\n",
       "      <td>1.110184</td>\n",
       "      <td>0.500343</td>\n",
       "      <td>3.450215</td>\n",
       "      <td>0.167266</td>\n",
       "      <td>2.000339</td>\n",
       "      <td>0.462641</td>\n",
       "      <td>0.544807</td>\n",
       "      <td>7.506729</td>\n",
       "      <td>8.150308</td>\n",
       "      <td>14.237589</td>\n",
       "      <td>5.195841</td>\n",
       "      <td>686.479875</td>\n",
       "      <td>1559.758728</td>\n",
       "      <td>1936.011647</td>\n",
       "    </tr>\n",
       "    <tr>\n",
       "      <th>min</th>\n",
       "      <td>1.000000</td>\n",
       "      <td>1.000000</td>\n",
       "      <td>0.000000</td>\n",
       "      <td>1.000000</td>\n",
       "      <td>0.000000</td>\n",
       "      <td>0.000000</td>\n",
       "      <td>0.000000</td>\n",
       "      <td>1.000000</td>\n",
       "      <td>2.424346</td>\n",
       "      <td>3.953480</td>\n",
       "      <td>0.000000</td>\n",
       "      <td>1.500244</td>\n",
       "      <td>2.000000</td>\n",
       "      <td>20.000000</td>\n",
       "      <td>22.000000</td>\n",
       "    </tr>\n",
       "    <tr>\n",
       "      <th>25%</th>\n",
       "      <td>183.250000</td>\n",
       "      <td>2.000000</td>\n",
       "      <td>0.000000</td>\n",
       "      <td>4.000000</td>\n",
       "      <td>0.000000</td>\n",
       "      <td>1.000000</td>\n",
       "      <td>0.000000</td>\n",
       "      <td>1.000000</td>\n",
       "      <td>13.811885</td>\n",
       "      <td>16.889713</td>\n",
       "      <td>52.000000</td>\n",
       "      <td>9.041650</td>\n",
       "      <td>316.250000</td>\n",
       "      <td>2502.250000</td>\n",
       "      <td>3169.750000</td>\n",
       "    </tr>\n",
       "    <tr>\n",
       "      <th>50%</th>\n",
       "      <td>365.500000</td>\n",
       "      <td>3.000000</td>\n",
       "      <td>0.500000</td>\n",
       "      <td>7.000000</td>\n",
       "      <td>0.000000</td>\n",
       "      <td>3.000000</td>\n",
       "      <td>1.000000</td>\n",
       "      <td>1.000000</td>\n",
       "      <td>20.465826</td>\n",
       "      <td>24.368225</td>\n",
       "      <td>62.625000</td>\n",
       "      <td>12.125325</td>\n",
       "      <td>717.000000</td>\n",
       "      <td>3664.500000</td>\n",
       "      <td>4548.500000</td>\n",
       "    </tr>\n",
       "    <tr>\n",
       "      <th>75%</th>\n",
       "      <td>547.750000</td>\n",
       "      <td>3.000000</td>\n",
       "      <td>1.000000</td>\n",
       "      <td>10.000000</td>\n",
       "      <td>0.000000</td>\n",
       "      <td>5.000000</td>\n",
       "      <td>1.000000</td>\n",
       "      <td>2.000000</td>\n",
       "      <td>26.880615</td>\n",
       "      <td>30.445775</td>\n",
       "      <td>72.989575</td>\n",
       "      <td>15.625589</td>\n",
       "      <td>1096.500000</td>\n",
       "      <td>4783.250000</td>\n",
       "      <td>5966.000000</td>\n",
       "    </tr>\n",
       "    <tr>\n",
       "      <th>max</th>\n",
       "      <td>730.000000</td>\n",
       "      <td>4.000000</td>\n",
       "      <td>1.000000</td>\n",
       "      <td>12.000000</td>\n",
       "      <td>1.000000</td>\n",
       "      <td>6.000000</td>\n",
       "      <td>1.000000</td>\n",
       "      <td>3.000000</td>\n",
       "      <td>35.328347</td>\n",
       "      <td>42.044800</td>\n",
       "      <td>97.250000</td>\n",
       "      <td>34.000021</td>\n",
       "      <td>3410.000000</td>\n",
       "      <td>6946.000000</td>\n",
       "      <td>8714.000000</td>\n",
       "    </tr>\n",
       "  </tbody>\n",
       "</table>\n",
       "</div>"
      ],
      "text/plain": [
       "          instant      season          yr        mnth     holiday     weekday  \\\n",
       "count  730.000000  730.000000  730.000000  730.000000  730.000000  730.000000   \n",
       "mean   365.500000    2.498630    0.500000    6.526027    0.028767    2.995890   \n",
       "std    210.877136    1.110184    0.500343    3.450215    0.167266    2.000339   \n",
       "min      1.000000    1.000000    0.000000    1.000000    0.000000    0.000000   \n",
       "25%    183.250000    2.000000    0.000000    4.000000    0.000000    1.000000   \n",
       "50%    365.500000    3.000000    0.500000    7.000000    0.000000    3.000000   \n",
       "75%    547.750000    3.000000    1.000000   10.000000    0.000000    5.000000   \n",
       "max    730.000000    4.000000    1.000000   12.000000    1.000000    6.000000   \n",
       "\n",
       "       workingday  weathersit        temp       atemp         hum   windspeed  \\\n",
       "count  730.000000  730.000000  730.000000  730.000000  730.000000  730.000000   \n",
       "mean     0.690411    1.394521   20.319259   23.726322   62.765175   12.763620   \n",
       "std      0.462641    0.544807    7.506729    8.150308   14.237589    5.195841   \n",
       "min      0.000000    1.000000    2.424346    3.953480    0.000000    1.500244   \n",
       "25%      0.000000    1.000000   13.811885   16.889713   52.000000    9.041650   \n",
       "50%      1.000000    1.000000   20.465826   24.368225   62.625000   12.125325   \n",
       "75%      1.000000    2.000000   26.880615   30.445775   72.989575   15.625589   \n",
       "max      1.000000    3.000000   35.328347   42.044800   97.250000   34.000021   \n",
       "\n",
       "            casual   registered          cnt  \n",
       "count   730.000000   730.000000   730.000000  \n",
       "mean    849.249315  3658.757534  4508.006849  \n",
       "std     686.479875  1559.758728  1936.011647  \n",
       "min       2.000000    20.000000    22.000000  \n",
       "25%     316.250000  2502.250000  3169.750000  \n",
       "50%     717.000000  3664.500000  4548.500000  \n",
       "75%    1096.500000  4783.250000  5966.000000  \n",
       "max    3410.000000  6946.000000  8714.000000  "
      ]
     },
     "execution_count": 6,
     "metadata": {},
     "output_type": "execute_result"
    }
   ],
   "source": [
    "bike.describe()"
   ]
  },
  {
   "cell_type": "markdown",
   "metadata": {},
   "source": [
    "#### Data Cleaning"
   ]
  },
  {
   "cell_type": "code",
   "execution_count": 7,
   "metadata": {},
   "outputs": [],
   "source": [
    "# 1. Improve the data quality by fixing the rows – address incorrect, summary and extraneous rows if required.\n",
    "# 2. Fix the columns – rename, delete, add, split, merge and align  columns if required.\n",
    "# 3. Deal with the missing values in the data sources. Impute or delete the missing data if required.\n",
    "# 4. Standardize the data values, fix invalid values, identify and decide on outliers,and filter data if required."
   ]
  },
  {
   "cell_type": "markdown",
   "metadata": {},
   "source": [
    "##### 1. Fix invalid rows:"
   ]
  },
  {
   "cell_type": "code",
   "execution_count": 8,
   "metadata": {},
   "outputs": [],
   "source": [
    "# There are no header or footer rows,no total or subtotal rows, no column numbers, indicators, blank rows and page no rows.\n",
    "## So fixing of invalid rows is not required."
   ]
  },
  {
   "cell_type": "markdown",
   "metadata": {},
   "source": [
    "##### 2. Fix invalid columns:"
   ]
  },
  {
   "cell_type": "code",
   "execution_count": 9,
   "metadata": {},
   "outputs": [],
   "source": [
    "# rename, delete, add, split, merge and align columns if required."
   ]
  },
  {
   "cell_type": "code",
   "execution_count": 10,
   "metadata": {},
   "outputs": [],
   "source": [
    "# Here we have few columns that are not useful for analysis, hence dropping those.\n",
    "    # instant: column is record index and not a predictor variable.\n",
    "    # dteday: Date not required as we already have mnth, year and weekday. daily trend or time series is not our goal we can drop date.\n",
    "    # casual and registered: These values are indirectly our target variable. cnt = casual + registered."
   ]
  },
  {
   "cell_type": "code",
   "execution_count": 11,
   "metadata": {},
   "outputs": [],
   "source": [
    "# Droping instant column\n",
    "bike.drop(['instant'], axis = 1, inplace = True)\n",
    "# Dropping dteday column\n",
    "bike.drop(['dteday'], axis = 1, inplace = True)\n",
    "# Dropping casual and registered columns\n",
    "bike.drop(['casual'], axis = 1, inplace = True)\n",
    "bike.drop(['registered'], axis = 1, inplace = True)"
   ]
  },
  {
   "cell_type": "markdown",
   "metadata": {},
   "source": [
    "##### 3. Fix the missing values in rows"
   ]
  },
  {
   "cell_type": "code",
   "execution_count": 12,
   "metadata": {},
   "outputs": [],
   "source": [
    "# There are no nulls (from data proling section)"
   ]
  },
  {
   "cell_type": "markdown",
   "metadata": {},
   "source": [
    "##### 4. Handling Outliers"
   ]
  },
  {
   "cell_type": "code",
   "execution_count": 13,
   "metadata": {},
   "outputs": [],
   "source": [
    "# Detect and fix the outliers to eliminate bias in data analysis."
   ]
  },
  {
   "cell_type": "code",
   "execution_count": 14,
   "metadata": {},
   "outputs": [
    {
     "data": {
      "text/plain": [
       "season          4\n",
       "yr              2\n",
       "mnth           12\n",
       "holiday         2\n",
       "weekday         7\n",
       "workingday      2\n",
       "weathersit      3\n",
       "temp          498\n",
       "atemp         689\n",
       "hum           594\n",
       "windspeed     649\n",
       "cnt           695\n",
       "dtype: int64"
      ]
     },
     "execution_count": 14,
     "metadata": {},
     "output_type": "execute_result"
    }
   ],
   "source": [
    "# Check the columns and the unique values in them.\n",
    "bike.nunique()"
   ]
  },
  {
   "cell_type": "code",
   "execution_count": 15,
   "metadata": {},
   "outputs": [
    {
     "name": "stdout",
     "output_type": "stream",
     "text": [
      "3    0.257534\n",
      "2    0.252055\n",
      "1    0.246575\n",
      "4    0.243836\n",
      "Name: season, dtype: float64\n",
      "0    0.5\n",
      "1    0.5\n",
      "Name: yr, dtype: float64\n",
      "1     0.084932\n",
      "3     0.084932\n",
      "5     0.084932\n",
      "7     0.084932\n",
      "8     0.084932\n",
      "10    0.084932\n",
      "12    0.084932\n",
      "4     0.082192\n",
      "6     0.082192\n",
      "9     0.082192\n",
      "11    0.082192\n",
      "2     0.076712\n",
      "Name: mnth, dtype: float64\n",
      "0    0.971233\n",
      "1    0.028767\n",
      "Name: holiday, dtype: float64\n",
      "1    0.143836\n",
      "2    0.143836\n",
      "3    0.142466\n",
      "4    0.142466\n",
      "5    0.142466\n",
      "6    0.142466\n",
      "0    0.142466\n",
      "Name: weekday, dtype: float64\n",
      "1    0.690411\n",
      "0    0.309589\n",
      "Name: workingday, dtype: float64\n",
      "1    0.634247\n",
      "2    0.336986\n",
      "3    0.028767\n",
      "Name: weathersit, dtype: float64\n"
     ]
    }
   ],
   "source": [
    "# From above list we can see that few columns have less unique values while others have high uniques.\n",
    "# This is because the columns with less uniques are categorical in nature (in most of the cases, also in this case)\n",
    "# Print the values and their proportion in these categorical variables\n",
    "print(bike.season.value_counts(normalize=True))\n",
    "print(bike.yr.value_counts(normalize=True))\n",
    "print(bike.mnth.value_counts(normalize=True))\n",
    "print(bike.holiday.value_counts(normalize=True))\n",
    "print(bike.weekday.value_counts(normalize=True))\n",
    "print(bike.workingday.value_counts(normalize=True))\n",
    "print(bike.weathersit.value_counts(normalize=True))"
   ]
  },
  {
   "cell_type": "code",
   "execution_count": 16,
   "metadata": {},
   "outputs": [
    {
     "data": {
      "image/png": "[encoded data removed]",
      "text/plain": [
       "<Figure size 576x144 with 1 Axes>"
      ]
     },
     "metadata": {
      "needs_background": "light"
     },
     "output_type": "display_data"
    },
    {
     "data": {
      "image/png": "[encoded data removed]",
      "text/plain": [
       "<Figure size 576x144 with 1 Axes>"
      ]
     },
     "metadata": {
      "needs_background": "light"
     },
     "output_type": "display_data"
    },
    {
     "data": {
      "image/png": "[encoded data removed]",
      "text/plain": [
       "<Figure size 576x144 with 1 Axes>"
      ]
     },
     "metadata": {
      "needs_background": "light"
     },
     "output_type": "display_data"
    },
    {
     "data": {
      "image/png": "[encoded data removed]",
      "text/plain": [
       "<Figure size 576x144 with 1 Axes>"
      ]
     },
     "metadata": {
      "needs_background": "light"
     },
     "output_type": "display_data"
    },
    {
     "data": {
      "image/png": "[encoded data removed]",
      "text/plain": [
       "<Figure size 576x144 with 1 Axes>"
      ]
     },
     "metadata": {
      "needs_background": "light"
     },
     "output_type": "display_data"
    }
   ],
   "source": [
    "# For quantitative variables we can use box plots to check outliers\n",
    "plt.figure(figsize=[8,2]),sns.boxplot((bike.temp));plt.show()\n",
    "plt.figure(figsize=[8,2]),sns.boxplot((bike.atemp));plt.show()\n",
    "plt.figure(figsize=[8,2]),sns.boxplot((bike.hum));plt.show()\n",
    "plt.figure(figsize=[8,2]),sns.boxplot((bike.windspeed));plt.show()\n",
    "plt.figure(figsize=[8,2]),sns.boxplot((bike.cnt));plt.show()"
   ]
  },
  {
   "cell_type": "code",
   "execution_count": 17,
   "metadata": {},
   "outputs": [
    {
     "data": {
      "text/plain": [
       "0.0001     1.369915\n",
       "0.0010    13.699149\n",
       "0.0020    21.825950\n",
       "0.0030    25.821854\n",
       "0.0050    28.497072\n",
       "0.0100    31.209593\n",
       "Name: hum, dtype: float64"
      ]
     },
     "execution_count": 17,
     "metadata": {},
     "output_type": "execute_result"
    }
   ],
   "source": [
    "# From above plots we can see that few values of humidity box plot are below the lower hinge.\n",
    "# lets check what %le data has sudden jumps in humidity and what can be dropped.\n",
    "bike.hum.quantile([0.0001, 0.001, 0.002, 0.003, 0.005, 0.01])"
   ]
  },
  {
   "cell_type": "code",
   "execution_count": 18,
   "metadata": {},
   "outputs": [
    {
     "data": {
      "text/html": [
       "<div>\n",
       "<style scoped>\n",
       "    .dataframe tbody tr th:only-of-type {\n",
       "        vertical-align: middle;\n",
       "    }\n",
       "\n",
       "    .dataframe tbody tr th {\n",
       "        vertical-align: top;\n",
       "    }\n",
       "\n",
       "    .dataframe thead th {\n",
       "        text-align: right;\n",
       "    }\n",
       "</style>\n",
       "<table border=\"1\" class=\"dataframe\">\n",
       "  <thead>\n",
       "    <tr style=\"text-align: right;\">\n",
       "      <th></th>\n",
       "      <th>season</th>\n",
       "      <th>yr</th>\n",
       "      <th>mnth</th>\n",
       "      <th>holiday</th>\n",
       "      <th>weekday</th>\n",
       "      <th>workingday</th>\n",
       "      <th>weathersit</th>\n",
       "      <th>temp</th>\n",
       "      <th>atemp</th>\n",
       "      <th>hum</th>\n",
       "      <th>windspeed</th>\n",
       "      <th>cnt</th>\n",
       "    </tr>\n",
       "  </thead>\n",
       "  <tbody>\n",
       "    <tr>\n",
       "      <th>49</th>\n",
       "      <td>1</td>\n",
       "      <td>0</td>\n",
       "      <td>2</td>\n",
       "      <td>0</td>\n",
       "      <td>1</td>\n",
       "      <td>1</td>\n",
       "      <td>1</td>\n",
       "      <td>16.365847</td>\n",
       "      <td>19.5702</td>\n",
       "      <td>18.7917</td>\n",
       "      <td>34.000021</td>\n",
       "      <td>1635</td>\n",
       "    </tr>\n",
       "    <tr>\n",
       "      <th>68</th>\n",
       "      <td>1</td>\n",
       "      <td>0</td>\n",
       "      <td>3</td>\n",
       "      <td>0</td>\n",
       "      <td>6</td>\n",
       "      <td>0</td>\n",
       "      <td>3</td>\n",
       "      <td>15.952731</td>\n",
       "      <td>19.2834</td>\n",
       "      <td>0.0000</td>\n",
       "      <td>17.545759</td>\n",
       "      <td>623</td>\n",
       "    </tr>\n",
       "  </tbody>\n",
       "</table>\n",
       "</div>"
      ],
      "text/plain": [
       "    season  yr  mnth  holiday  weekday  workingday  weathersit       temp  \\\n",
       "49       1   0     2        0        1           1           1  16.365847   \n",
       "68       1   0     3        0        6           0           3  15.952731   \n",
       "\n",
       "      atemp      hum  windspeed   cnt  \n",
       "49  19.5702  18.7917  34.000021  1635  \n",
       "68  19.2834   0.0000  17.545759   623  "
      ]
     },
     "execution_count": 18,
     "metadata": {},
     "output_type": "execute_result"
    }
   ],
   "source": [
    "# there is sudden jump in values of humidity from 0.001 to 0.002, and after 0.002 values are smoothly increasing.\n",
    "# lets check the rows with least humidity values\n",
    "bike[bike.hum<bike.hum.quantile([0.002][0])]"
   ]
  },
  {
   "cell_type": "code",
   "execution_count": 19,
   "metadata": {},
   "outputs": [],
   "source": [
    "# there are 2 rows that have very less hum values and 1 row has 0 which is impossible\n",
    "# lets delete these 2 rows to avoid bias\n",
    "bike = bike[bike.hum>bike.hum.quantile([0.002][0])]"
   ]
  },
  {
   "cell_type": "code",
   "execution_count": 20,
   "metadata": {},
   "outputs": [
    {
     "data": {
      "image/png": "[encoded data removed]",
      "text/plain": [
       "<Figure size 576x144 with 1 Axes>"
      ]
     },
     "metadata": {
      "needs_background": "light"
     },
     "output_type": "display_data"
    },
    {
     "data": {
      "image/png": "[encoded data removed]",
      "text/plain": [
       "<Figure size 576x144 with 1 Axes>"
      ]
     },
     "metadata": {
      "needs_background": "light"
     },
     "output_type": "display_data"
    },
    {
     "data": {
      "image/png": "[encoded data removed]",
      "text/plain": [
       "<Figure size 576x144 with 1 Axes>"
      ]
     },
     "metadata": {
      "needs_background": "light"
     },
     "output_type": "display_data"
    },
    {
     "data": {
      "image/png": "[encoded data removed]",
      "text/plain": [
       "<Figure size 576x144 with 1 Axes>"
      ]
     },
     "metadata": {
      "needs_background": "light"
     },
     "output_type": "display_data"
    },
    {
     "data": {
      "image/png": "[encoded data removed]",
      "text/plain": [
       "<Figure size 576x144 with 1 Axes>"
      ]
     },
     "metadata": {
      "needs_background": "light"
     },
     "output_type": "display_data"
    }
   ],
   "source": [
    "# Lets review the plots again:\n",
    "plt.figure(figsize=[8,2]),sns.boxplot((bike.temp));plt.show()\n",
    "plt.figure(figsize=[8,2]),sns.boxplot((bike.atemp));plt.show()\n",
    "plt.figure(figsize=[8,2]),sns.boxplot((bike.hum));plt.show()\n",
    "plt.figure(figsize=[8,2]),sns.boxplot((bike.windspeed));plt.show()\n",
    "plt.figure(figsize=[8,2]),sns.boxplot((bike.cnt));plt.show()"
   ]
  },
  {
   "cell_type": "code",
   "execution_count": 21,
   "metadata": {},
   "outputs": [
    {
     "data": {
      "text/plain": [
       "0.800    16.609193\n",
       "0.900    19.804443\n",
       "0.950    22.985342\n",
       "0.960    23.291966\n",
       "0.970    23.966082\n",
       "0.980    25.121693\n",
       "0.990    27.123258\n",
       "0.995    27.894367\n",
       "0.999    28.645222\n",
       "1.000    29.584721\n",
       "Name: windspeed, dtype: float64"
      ]
     },
     "execution_count": 21,
     "metadata": {},
     "output_type": "execute_result"
    }
   ],
   "source": [
    "# now in windspeed we have values above higher hinge of box plot\n",
    "bike.windspeed.quantile([0.8, 0.9, 0.95,0.96,0.97,0.98 , 0.99, 0.995, 0.999, 1])"
   ]
  },
  {
   "cell_type": "code",
   "execution_count": 22,
   "metadata": {},
   "outputs": [],
   "source": [
    "# Here the jump in values is smooth and hence we can ignore these values"
   ]
  },
  {
   "cell_type": "markdown",
   "metadata": {},
   "source": [
    "#### Standardize the data values"
   ]
  },
  {
   "cell_type": "code",
   "execution_count": 23,
   "metadata": {},
   "outputs": [],
   "source": [
    "# In the outliers section we saw that categorical variables have values that are encoded with numbers.\n",
    "# Lets replace these coded values with the original values.\n",
    "# Inferences made on coded values will not be clear so with real values we can make inferences readable and more understandable."
   ]
  },
  {
   "cell_type": "code",
   "execution_count": 24,
   "metadata": {},
   "outputs": [
    {
     "data": {
      "text/html": [
       "<div>\n",
       "<style scoped>\n",
       "    .dataframe tbody tr th:only-of-type {\n",
       "        vertical-align: middle;\n",
       "    }\n",
       "\n",
       "    .dataframe tbody tr th {\n",
       "        vertical-align: top;\n",
       "    }\n",
       "\n",
       "    .dataframe thead th {\n",
       "        text-align: right;\n",
       "    }\n",
       "</style>\n",
       "<table border=\"1\" class=\"dataframe\">\n",
       "  <thead>\n",
       "    <tr style=\"text-align: right;\">\n",
       "      <th></th>\n",
       "      <th>season</th>\n",
       "      <th>yr</th>\n",
       "      <th>mnth</th>\n",
       "      <th>holiday</th>\n",
       "      <th>weekday</th>\n",
       "      <th>workingday</th>\n",
       "      <th>weathersit</th>\n",
       "      <th>temp</th>\n",
       "      <th>atemp</th>\n",
       "      <th>hum</th>\n",
       "      <th>windspeed</th>\n",
       "      <th>cnt</th>\n",
       "    </tr>\n",
       "  </thead>\n",
       "  <tbody>\n",
       "    <tr>\n",
       "      <th>0</th>\n",
       "      <td>spring</td>\n",
       "      <td>2018</td>\n",
       "      <td>jan</td>\n",
       "      <td>0</td>\n",
       "      <td>mon</td>\n",
       "      <td>1</td>\n",
       "      <td>moderate</td>\n",
       "      <td>14.110847</td>\n",
       "      <td>18.18125</td>\n",
       "      <td>80.5833</td>\n",
       "      <td>10.749882</td>\n",
       "      <td>985</td>\n",
       "    </tr>\n",
       "    <tr>\n",
       "      <th>1</th>\n",
       "      <td>spring</td>\n",
       "      <td>2018</td>\n",
       "      <td>jan</td>\n",
       "      <td>0</td>\n",
       "      <td>tue</td>\n",
       "      <td>1</td>\n",
       "      <td>moderate</td>\n",
       "      <td>14.902598</td>\n",
       "      <td>17.68695</td>\n",
       "      <td>69.6087</td>\n",
       "      <td>16.652113</td>\n",
       "      <td>801</td>\n",
       "    </tr>\n",
       "    <tr>\n",
       "      <th>2</th>\n",
       "      <td>spring</td>\n",
       "      <td>2018</td>\n",
       "      <td>jan</td>\n",
       "      <td>0</td>\n",
       "      <td>wed</td>\n",
       "      <td>1</td>\n",
       "      <td>good</td>\n",
       "      <td>8.050924</td>\n",
       "      <td>9.47025</td>\n",
       "      <td>43.7273</td>\n",
       "      <td>16.636703</td>\n",
       "      <td>1349</td>\n",
       "    </tr>\n",
       "    <tr>\n",
       "      <th>3</th>\n",
       "      <td>spring</td>\n",
       "      <td>2018</td>\n",
       "      <td>jan</td>\n",
       "      <td>0</td>\n",
       "      <td>thu</td>\n",
       "      <td>1</td>\n",
       "      <td>good</td>\n",
       "      <td>8.200000</td>\n",
       "      <td>10.60610</td>\n",
       "      <td>59.0435</td>\n",
       "      <td>10.739832</td>\n",
       "      <td>1562</td>\n",
       "    </tr>\n",
       "    <tr>\n",
       "      <th>4</th>\n",
       "      <td>spring</td>\n",
       "      <td>2018</td>\n",
       "      <td>jan</td>\n",
       "      <td>0</td>\n",
       "      <td>fri</td>\n",
       "      <td>1</td>\n",
       "      <td>good</td>\n",
       "      <td>9.305237</td>\n",
       "      <td>11.46350</td>\n",
       "      <td>43.6957</td>\n",
       "      <td>12.522300</td>\n",
       "      <td>1600</td>\n",
       "    </tr>\n",
       "  </tbody>\n",
       "</table>\n",
       "</div>"
      ],
      "text/plain": [
       "   season    yr mnth  holiday weekday  workingday weathersit       temp  \\\n",
       "0  spring  2018  jan        0     mon           1   moderate  14.110847   \n",
       "1  spring  2018  jan        0     tue           1   moderate  14.902598   \n",
       "2  spring  2018  jan        0     wed           1       good   8.050924   \n",
       "3  spring  2018  jan        0     thu           1       good   8.200000   \n",
       "4  spring  2018  jan        0     fri           1       good   9.305237   \n",
       "\n",
       "      atemp      hum  windspeed   cnt  \n",
       "0  18.18125  80.5833  10.749882   985  \n",
       "1  17.68695  69.6087  16.652113   801  \n",
       "2   9.47025  43.7273  16.636703  1349  \n",
       "3  10.60610  59.0435  10.739832  1562  \n",
       "4  11.46350  43.6957  12.522300  1600  "
      ]
     },
     "execution_count": 24,
     "metadata": {},
     "output_type": "execute_result"
    }
   ],
   "source": [
    "bike.season.replace({1:\"spring\", 2:\"summer\", 3:\"fall\", 4:\"winter\"},inplace = True)\n",
    "bike.weathersit.replace({1:'good',2:'moderate',3:'bad',4:'severe'},inplace = True)\n",
    "bike.yr.replace({0: '2018',1: '2019'},inplace = True)\n",
    "bike.mnth.replace({1: 'jan',2: 'feb',3: 'mar',4: 'apr',5: 'may',6: 'jun',7: 'jul',8: 'aug',9: 'sep',10: 'oct',11: 'nov',12: 'dec'},inplace = True)\n",
    "bike.weekday.replace({0: 'sun',1: 'mon',2: 'tue',3: 'wed',4: 'thu',5: 'fri',6: 'sat'},inplace = True)\n",
    "bike.head()"
   ]
  },
  {
   "cell_type": "code",
   "execution_count": 25,
   "metadata": {
    "scrolled": true
   },
   "outputs": [
    {
     "data": {
      "text/plain": [
       "season        0.0\n",
       "yr            0.0\n",
       "mnth          0.0\n",
       "holiday       0.0\n",
       "weekday       0.0\n",
       "workingday    0.0\n",
       "weathersit    0.0\n",
       "temp          0.0\n",
       "atemp         0.0\n",
       "hum           0.0\n",
       "windspeed     0.0\n",
       "cnt           0.0\n",
       "dtype: float64"
      ]
     },
     "execution_count": 25,
     "metadata": {},
     "output_type": "execute_result"
    }
   ],
   "source": [
    "100*bike.isnull().sum()/bike.shape[0]"
   ]
  },
  {
   "cell_type": "markdown",
   "metadata": {},
   "source": [
    "#### Univariate Analysis\n",
    "    1. Categorical unordered variables abalysis - holiday, workingday\n",
    "    2. Categorical ordered univariate analysis - season, yr, mnth, weekday, wethersit\n",
    "    3. Numercal Univariate Analysis - temp, atemp, hum, windspeed, cnt"
   ]
  },
  {
   "cell_type": "markdown",
   "metadata": {},
   "source": [
    "##### 1. Categorical unordered variables analysis"
   ]
  },
  {
   "cell_type": "code",
   "execution_count": 26,
   "metadata": {},
   "outputs": [
    {
     "data": {
      "image/png": "[encoded data removed]",
      "text/plain": [
       "<Figure size 576x144 with 2 Axes>"
      ]
     },
     "metadata": {
      "needs_background": "light"
     },
     "output_type": "display_data"
    }
   ],
   "source": [
    "plt.figure(figsize=[8,2])\n",
    "plt.subplot(1,2,1);bike['holiday'].value_counts(normalize=True).plot.barh(title = 'holiday');\n",
    "plt.subplot(1,2,2);bike['workingday'].value_counts(normalize=True).plot.barh(title = 'workingday');\n",
    "plt.show()"
   ]
  },
  {
   "cell_type": "markdown",
   "metadata": {},
   "source": [
    "##### Inferences:\n",
    "    - 1. Most of the days falls under no holiday \n",
    "    - 2. Weekdays are more compared with weekends and holidays count\n",
    "        - This is normal and hence can't extract very useful insights from this"
   ]
  },
  {
   "cell_type": "markdown",
   "metadata": {},
   "source": [
    "##### 2. Categorical ordered univariate analysis"
   ]
  },
  {
   "cell_type": "code",
   "execution_count": 27,
   "metadata": {
    "scrolled": false
   },
   "outputs": [
    {
     "data": {
      "image/png": "[encoded data removed]",
      "text/plain": [
       "<Figure size 1440x576 with 5 Axes>"
      ]
     },
     "metadata": {
      "needs_background": "light"
     },
     "output_type": "display_data"
    }
   ],
   "source": [
    "plt.figure(figsize=[20,8])\n",
    "plt.subplot(2,3,1);bike['season'].value_counts(normalize=True).plot.barh(title = 'Season');\n",
    "plt.subplot(2,3,2);bike['yr'].value_counts(normalize=True).plot.barh(title = 'Year');\n",
    "plt.subplot(2,3,3);bike['mnth'].value_counts(normalize=True).plot.barh(title = 'Month');\n",
    "plt.subplot(2,3,4);bike['weekday'].value_counts(normalize=True).plot.barh(title = 'Day');\n",
    "plt.subplot(2,3,5);bike['weathersit'].value_counts(normalize=True).plot.barh(title = 'Weather');\n",
    "plt.show()"
   ]
  },
  {
   "cell_type": "markdown",
   "metadata": {},
   "source": [
    "##### Inferences:\n",
    "    - 1. Most of the data values are distributed evenly in year, month, weeday, season columns\n",
    "    - 2. But in weather column we can see that with increase in severity we have decreas in the numbers"
   ]
  },
  {
   "cell_type": "markdown",
   "metadata": {},
   "source": [
    "##### 3. Numercal Univariate Analysis"
   ]
  },
  {
   "cell_type": "code",
   "execution_count": 28,
   "metadata": {},
   "outputs": [],
   "source": [
    "# This is already analysed in outliers section"
   ]
  },
  {
   "cell_type": "markdown",
   "metadata": {},
   "source": [
    "#### Bivariate Analysis\n",
    "    \n",
    "    1. Numeric-Numeric Analysis - temp, atemp, hum, windspeed, cnt\n",
    "    2. Numerical-Categorical - temp, atemp, hum, windspeed, cnt, holiday, workingday, season, yr, mnth, weekday, weathersit\n",
    "    3. Categorical-Categorical Analysis - holiday, workingday, season, yr, mnth, weekday, weathersit"
   ]
  },
  {
   "cell_type": "markdown",
   "metadata": {},
   "source": [
    "##### 1. Numeric-Numeric Analysis"
   ]
  },
  {
   "cell_type": "code",
   "execution_count": 29,
   "metadata": {},
   "outputs": [
    {
     "data": {
      "image/png": "[encoded data removed]",
      "text/plain": [
       "<Figure size 360x360 with 2 Axes>"
      ]
     },
     "metadata": {
      "needs_background": "light"
     },
     "output_type": "display_data"
    }
   ],
   "source": [
    "#plot a heat map to analyze which measures are correlated\n",
    "plt.figure(figsize=[5,5])\n",
    "sns.heatmap(bike[['cnt','temp','atemp','hum','windspeed']].corr(), annot=True, cmap='Reds')\n",
    "plt.show()"
   ]
  },
  {
   "cell_type": "code",
   "execution_count": 30,
   "metadata": {},
   "outputs": [
    {
     "data": {
      "image/png": "[encoded data removed]",
      "text/plain": [
       "<Figure size 900x900 with 30 Axes>"
      ]
     },
     "metadata": {
      "needs_background": "light"
     },
     "output_type": "display_data"
    }
   ],
   "source": [
    "sns.pairplot(data = bike, vars = ['cnt','temp','atemp','hum','windspeed']);plt.show()"
   ]
  },
  {
   "cell_type": "markdown",
   "metadata": {},
   "source": [
    "##### Inferences:\n",
    "    - 1. CNT variable has strong positive correlation with temp and atemp variables.\n",
    "    - 2. CNT has -ve correlation with humidity and windspeed which is obvious but the strength correlation is not great\n",
    "    - 3. temp and atemp are strongly positively correlated with each other\n",
    "    - 4. other correlations are present but their strenght is not great hence can be ignored."
   ]
  },
  {
   "cell_type": "markdown",
   "metadata": {},
   "source": [
    "##### 3. Numerical-Categorical"
   ]
  },
  {
   "cell_type": "code",
   "execution_count": 31,
   "metadata": {},
   "outputs": [
    {
     "data": {
      "image/png": "[encoded data removed]",
      "text/plain": [
       "<Figure size 1440x1080 with 7 Axes>"
      ]
     },
     "metadata": {
      "needs_background": "light"
     },
     "output_type": "display_data"
    }
   ],
   "source": [
    "plt.figure(figsize=(20, 15))\n",
    "plt.subplot(3,3,1)\n",
    "sns.boxplot(x = 'season', y = 'cnt', data = bike)\n",
    "plt.subplot(3,3,2)\n",
    "sns.boxplot(x = 'yr', y = 'cnt', data = bike)\n",
    "plt.subplot(3,3,3)\n",
    "sns.boxplot(x = 'mnth', y = 'cnt', data = bike)\n",
    "plt.subplot(3,3,4)\n",
    "sns.boxplot(x = 'weekday', y = 'cnt', data = bike)\n",
    "plt.subplot(3,3,5)\n",
    "sns.boxplot(x = 'weathersit', y = 'cnt', data = bike)\n",
    "plt.subplot(3,3,6)\n",
    "sns.boxplot(x = 'holiday', y = 'cnt', data = bike)\n",
    "plt.subplot(3,3,7)\n",
    "sns.boxplot(x = 'workingday', y = 'cnt', data = bike)\n",
    "plt.show()"
   ]
  },
  {
   "cell_type": "markdown",
   "metadata": {},
   "source": [
    "##### Inferences:\n",
    "    - 1. Count of total rental bikes is more in Fall season & less in Spring\n",
    "    - 2. Year by year rented bikes share is increasing.\n",
    "    - 3. Rental bikes count is more during the mid of year.\n",
    "    - 4. Bikes count is approximately same on every day and not depends on weekdays or weekends or holidays.\n",
    "    - 5. When the rains or snow fall is worse or bad there is no bike sharing."
   ]
  },
  {
   "cell_type": "markdown",
   "metadata": {},
   "source": [
    "##### 3. Categorical-Categorical Analysis"
   ]
  },
  {
   "cell_type": "code",
   "execution_count": 32,
   "metadata": {},
   "outputs": [
    {
     "data": {
      "image/png": "[encoded data removed]",
      "text/plain": [
       "<Figure size 720x360 with 1 Axes>"
      ]
     },
     "metadata": {
      "needs_background": "light"
     },
     "output_type": "display_data"
    }
   ],
   "source": [
    "plt.figure(figsize = (10, 5))\n",
    "sns.boxplot(x = 'season', y = 'cnt', hue = 'yr', data = bike)\n",
    "plt.show()"
   ]
  },
  {
   "cell_type": "code",
   "execution_count": 33,
   "metadata": {},
   "outputs": [
    {
     "data": {
      "image/png": "[encoded data removed]",
      "text/plain": [
       "<Figure size 720x360 with 1 Axes>"
      ]
     },
     "metadata": {
      "needs_background": "light"
     },
     "output_type": "display_data"
    }
   ],
   "source": [
    "plt.figure(figsize = (10, 5))\n",
    "sns.boxplot(x = 'mnth', y = 'cnt', hue = 'yr', data = bike)\n",
    "plt.show()"
   ]
  },
  {
   "cell_type": "code",
   "execution_count": 34,
   "metadata": {},
   "outputs": [
    {
     "data": {
      "image/png": "[encoded data removed]",
      "text/plain": [
       "<Figure size 720x360 with 1 Axes>"
      ]
     },
     "metadata": {
      "needs_background": "light"
     },
     "output_type": "display_data"
    }
   ],
   "source": [
    "plt.figure(figsize = (10, 5))\n",
    "sns.boxplot(x = 'weathersit', y = 'cnt', hue = 'yr', data = bike)\n",
    "plt.show()"
   ]
  },
  {
   "cell_type": "code",
   "execution_count": 35,
   "metadata": {},
   "outputs": [
    {
     "data": {
      "image/png": "[encoded data removed]",
      "text/plain": [
       "<Figure size 720x360 with 1 Axes>"
      ]
     },
     "metadata": {
      "needs_background": "light"
     },
     "output_type": "display_data"
    }
   ],
   "source": [
    "plt.figure(figsize = (10, 5))\n",
    "sns.boxplot(x = 'season', y = 'cnt', hue = 'weathersit', data = bike)\n",
    "plt.show()"
   ]
  },
  {
   "cell_type": "markdown",
   "metadata": {},
   "source": [
    "## Linear Regression model:"
   ]
  },
  {
   "cell_type": "markdown",
   "metadata": {},
   "source": [
    "### Data Preparation"
   ]
  },
  {
   "cell_type": "code",
   "execution_count": 36,
   "metadata": {},
   "outputs": [
    {
     "data": {
      "text/html": [
       "<div>\n",
       "<style scoped>\n",
       "    .dataframe tbody tr th:only-of-type {\n",
       "        vertical-align: middle;\n",
       "    }\n",
       "\n",
       "    .dataframe tbody tr th {\n",
       "        vertical-align: top;\n",
       "    }\n",
       "\n",
       "    .dataframe thead th {\n",
       "        text-align: right;\n",
       "    }\n",
       "</style>\n",
       "<table border=\"1\" class=\"dataframe\">\n",
       "  <thead>\n",
       "    <tr style=\"text-align: right;\">\n",
       "      <th></th>\n",
       "      <th>season</th>\n",
       "      <th>yr</th>\n",
       "      <th>mnth</th>\n",
       "      <th>holiday</th>\n",
       "      <th>weekday</th>\n",
       "      <th>workingday</th>\n",
       "      <th>weathersit</th>\n",
       "      <th>temp</th>\n",
       "      <th>atemp</th>\n",
       "      <th>hum</th>\n",
       "      <th>windspeed</th>\n",
       "      <th>cnt</th>\n",
       "    </tr>\n",
       "  </thead>\n",
       "  <tbody>\n",
       "    <tr>\n",
       "      <th>0</th>\n",
       "      <td>spring</td>\n",
       "      <td>2018</td>\n",
       "      <td>jan</td>\n",
       "      <td>0</td>\n",
       "      <td>mon</td>\n",
       "      <td>1</td>\n",
       "      <td>moderate</td>\n",
       "      <td>14.110847</td>\n",
       "      <td>18.18125</td>\n",
       "      <td>80.5833</td>\n",
       "      <td>10.749882</td>\n",
       "      <td>985</td>\n",
       "    </tr>\n",
       "    <tr>\n",
       "      <th>1</th>\n",
       "      <td>spring</td>\n",
       "      <td>2018</td>\n",
       "      <td>jan</td>\n",
       "      <td>0</td>\n",
       "      <td>tue</td>\n",
       "      <td>1</td>\n",
       "      <td>moderate</td>\n",
       "      <td>14.902598</td>\n",
       "      <td>17.68695</td>\n",
       "      <td>69.6087</td>\n",
       "      <td>16.652113</td>\n",
       "      <td>801</td>\n",
       "    </tr>\n",
       "    <tr>\n",
       "      <th>2</th>\n",
       "      <td>spring</td>\n",
       "      <td>2018</td>\n",
       "      <td>jan</td>\n",
       "      <td>0</td>\n",
       "      <td>wed</td>\n",
       "      <td>1</td>\n",
       "      <td>good</td>\n",
       "      <td>8.050924</td>\n",
       "      <td>9.47025</td>\n",
       "      <td>43.7273</td>\n",
       "      <td>16.636703</td>\n",
       "      <td>1349</td>\n",
       "    </tr>\n",
       "    <tr>\n",
       "      <th>3</th>\n",
       "      <td>spring</td>\n",
       "      <td>2018</td>\n",
       "      <td>jan</td>\n",
       "      <td>0</td>\n",
       "      <td>thu</td>\n",
       "      <td>1</td>\n",
       "      <td>good</td>\n",
       "      <td>8.200000</td>\n",
       "      <td>10.60610</td>\n",
       "      <td>59.0435</td>\n",
       "      <td>10.739832</td>\n",
       "      <td>1562</td>\n",
       "    </tr>\n",
       "    <tr>\n",
       "      <th>4</th>\n",
       "      <td>spring</td>\n",
       "      <td>2018</td>\n",
       "      <td>jan</td>\n",
       "      <td>0</td>\n",
       "      <td>fri</td>\n",
       "      <td>1</td>\n",
       "      <td>good</td>\n",
       "      <td>9.305237</td>\n",
       "      <td>11.46350</td>\n",
       "      <td>43.6957</td>\n",
       "      <td>12.522300</td>\n",
       "      <td>1600</td>\n",
       "    </tr>\n",
       "  </tbody>\n",
       "</table>\n",
       "</div>"
      ],
      "text/plain": [
       "   season    yr mnth  holiday weekday  workingday weathersit       temp  \\\n",
       "0  spring  2018  jan        0     mon           1   moderate  14.110847   \n",
       "1  spring  2018  jan        0     tue           1   moderate  14.902598   \n",
       "2  spring  2018  jan        0     wed           1       good   8.050924   \n",
       "3  spring  2018  jan        0     thu           1       good   8.200000   \n",
       "4  spring  2018  jan        0     fri           1       good   9.305237   \n",
       "\n",
       "      atemp      hum  windspeed   cnt  \n",
       "0  18.18125  80.5833  10.749882   985  \n",
       "1  17.68695  69.6087  16.652113   801  \n",
       "2   9.47025  43.7273  16.636703  1349  \n",
       "3  10.60610  59.0435  10.739832  1562  \n",
       "4  11.46350  43.6957  12.522300  1600  "
      ]
     },
     "execution_count": 36,
     "metadata": {},
     "output_type": "execute_result"
    }
   ],
   "source": [
    "# Check the housing dataframe \n",
    "bike.head()"
   ]
  },
  {
   "cell_type": "code",
   "execution_count": 37,
   "metadata": {},
   "outputs": [
    {
     "data": {
      "text/html": [
       "<div>\n",
       "<style scoped>\n",
       "    .dataframe tbody tr th:only-of-type {\n",
       "        vertical-align: middle;\n",
       "    }\n",
       "\n",
       "    .dataframe tbody tr th {\n",
       "        vertical-align: top;\n",
       "    }\n",
       "\n",
       "    .dataframe thead th {\n",
       "        text-align: right;\n",
       "    }\n",
       "</style>\n",
       "<table border=\"1\" class=\"dataframe\">\n",
       "  <thead>\n",
       "    <tr style=\"text-align: right;\">\n",
       "      <th></th>\n",
       "      <th>season</th>\n",
       "      <th>yr</th>\n",
       "      <th>mnth</th>\n",
       "      <th>holiday</th>\n",
       "      <th>weekday</th>\n",
       "      <th>workingday</th>\n",
       "      <th>weathersit</th>\n",
       "      <th>temp</th>\n",
       "      <th>atemp</th>\n",
       "      <th>hum</th>\n",
       "      <th>windspeed</th>\n",
       "      <th>cnt</th>\n",
       "    </tr>\n",
       "  </thead>\n",
       "  <tbody>\n",
       "    <tr>\n",
       "      <th>0</th>\n",
       "      <td>spring</td>\n",
       "      <td>0</td>\n",
       "      <td>jan</td>\n",
       "      <td>0</td>\n",
       "      <td>mon</td>\n",
       "      <td>1</td>\n",
       "      <td>moderate</td>\n",
       "      <td>14.110847</td>\n",
       "      <td>18.18125</td>\n",
       "      <td>80.5833</td>\n",
       "      <td>10.749882</td>\n",
       "      <td>985</td>\n",
       "    </tr>\n",
       "    <tr>\n",
       "      <th>1</th>\n",
       "      <td>spring</td>\n",
       "      <td>0</td>\n",
       "      <td>jan</td>\n",
       "      <td>0</td>\n",
       "      <td>tue</td>\n",
       "      <td>1</td>\n",
       "      <td>moderate</td>\n",
       "      <td>14.902598</td>\n",
       "      <td>17.68695</td>\n",
       "      <td>69.6087</td>\n",
       "      <td>16.652113</td>\n",
       "      <td>801</td>\n",
       "    </tr>\n",
       "  </tbody>\n",
       "</table>\n",
       "</div>"
      ],
      "text/plain": [
       "   season  yr mnth  holiday weekday  workingday weathersit       temp  \\\n",
       "0  spring   0  jan        0     mon           1   moderate  14.110847   \n",
       "1  spring   0  jan        0     tue           1   moderate  14.902598   \n",
       "\n",
       "      atemp      hum  windspeed  cnt  \n",
       "0  18.18125  80.5833  10.749882  985  \n",
       "1  17.68695  69.6087  16.652113  801  "
      ]
     },
     "execution_count": 37,
     "metadata": {},
     "output_type": "execute_result"
    }
   ],
   "source": [
    "# encoding year column back to what we had earlier\n",
    "bike.yr.replace({'2018':0,'2019':1},inplace = True)\n",
    "bike.head(2)"
   ]
  },
  {
   "cell_type": "markdown",
   "metadata": {},
   "source": [
    "#### Dummy Variables"
   ]
  },
  {
   "cell_type": "markdown",
   "metadata": {},
   "source": [
    "The categorical variables have many levels. We need to convert these levels into integers. \n",
    "For this, we will use something called `dummy variables`."
   ]
  },
  {
   "cell_type": "code",
   "execution_count": 38,
   "metadata": {},
   "outputs": [],
   "source": [
    "# Creating dummy variables and dropping first dummys to escape dummy variable trap\n",
    "bike = pd.get_dummies(data=bike,columns=[\"season\",\"mnth\",\"weekday\"],drop_first=True)\n",
    "bike = pd.get_dummies(data=bike,columns=[\"weathersit\"])\n",
    "# In weathersit no need to drop any variable as sevre is already missing."
   ]
  },
  {
   "cell_type": "code",
   "execution_count": 39,
   "metadata": {},
   "outputs": [
    {
     "data": {
      "text/plain": [
       "Index(['yr', 'holiday', 'workingday', 'temp', 'atemp', 'hum', 'windspeed',\n",
       "       'cnt', 'season_spring', 'season_summer', 'season_winter', 'mnth_aug',\n",
       "       'mnth_dec', 'mnth_feb', 'mnth_jan', 'mnth_jul', 'mnth_jun', 'mnth_mar',\n",
       "       'mnth_may', 'mnth_nov', 'mnth_oct', 'mnth_sep', 'weekday_mon',\n",
       "       'weekday_sat', 'weekday_sun', 'weekday_thu', 'weekday_tue',\n",
       "       'weekday_wed', 'weathersit_bad', 'weathersit_good',\n",
       "       'weathersit_moderate'],\n",
       "      dtype='object')"
      ]
     },
     "execution_count": 39,
     "metadata": {},
     "output_type": "execute_result"
    }
   ],
   "source": [
    "bike.columns"
   ]
  },
  {
   "cell_type": "code",
   "execution_count": 40,
   "metadata": {},
   "outputs": [
    {
     "data": {
      "text/html": [
       "<div>\n",
       "<style scoped>\n",
       "    .dataframe tbody tr th:only-of-type {\n",
       "        vertical-align: middle;\n",
       "    }\n",
       "\n",
       "    .dataframe tbody tr th {\n",
       "        vertical-align: top;\n",
       "    }\n",
       "\n",
       "    .dataframe thead th {\n",
       "        text-align: right;\n",
       "    }\n",
       "</style>\n",
       "<table border=\"1\" class=\"dataframe\">\n",
       "  <thead>\n",
       "    <tr style=\"text-align: right;\">\n",
       "      <th></th>\n",
       "      <th>yr</th>\n",
       "      <th>holiday</th>\n",
       "      <th>workingday</th>\n",
       "      <th>temp</th>\n",
       "      <th>atemp</th>\n",
       "      <th>hum</th>\n",
       "      <th>windspeed</th>\n",
       "      <th>cnt</th>\n",
       "      <th>season_spring</th>\n",
       "      <th>season_summer</th>\n",
       "      <th>...</th>\n",
       "      <th>mnth_sep</th>\n",
       "      <th>weekday_mon</th>\n",
       "      <th>weekday_sat</th>\n",
       "      <th>weekday_sun</th>\n",
       "      <th>weekday_thu</th>\n",
       "      <th>weekday_tue</th>\n",
       "      <th>weekday_wed</th>\n",
       "      <th>weathersit_bad</th>\n",
       "      <th>weathersit_good</th>\n",
       "      <th>weathersit_moderate</th>\n",
       "    </tr>\n",
       "  </thead>\n",
       "  <tbody>\n",
       "    <tr>\n",
       "      <th>0</th>\n",
       "      <td>0</td>\n",
       "      <td>0</td>\n",
       "      <td>1</td>\n",
       "      <td>14.110847</td>\n",
       "      <td>18.18125</td>\n",
       "      <td>80.5833</td>\n",
       "      <td>10.749882</td>\n",
       "      <td>985</td>\n",
       "      <td>1</td>\n",
       "      <td>0</td>\n",
       "      <td>...</td>\n",
       "      <td>0</td>\n",
       "      <td>1</td>\n",
       "      <td>0</td>\n",
       "      <td>0</td>\n",
       "      <td>0</td>\n",
       "      <td>0</td>\n",
       "      <td>0</td>\n",
       "      <td>0</td>\n",
       "      <td>0</td>\n",
       "      <td>1</td>\n",
       "    </tr>\n",
       "    <tr>\n",
       "      <th>1</th>\n",
       "      <td>0</td>\n",
       "      <td>0</td>\n",
       "      <td>1</td>\n",
       "      <td>14.902598</td>\n",
       "      <td>17.68695</td>\n",
       "      <td>69.6087</td>\n",
       "      <td>16.652113</td>\n",
       "      <td>801</td>\n",
       "      <td>1</td>\n",
       "      <td>0</td>\n",
       "      <td>...</td>\n",
       "      <td>0</td>\n",
       "      <td>0</td>\n",
       "      <td>0</td>\n",
       "      <td>0</td>\n",
       "      <td>0</td>\n",
       "      <td>1</td>\n",
       "      <td>0</td>\n",
       "      <td>0</td>\n",
       "      <td>0</td>\n",
       "      <td>1</td>\n",
       "    </tr>\n",
       "    <tr>\n",
       "      <th>2</th>\n",
       "      <td>0</td>\n",
       "      <td>0</td>\n",
       "      <td>1</td>\n",
       "      <td>8.050924</td>\n",
       "      <td>9.47025</td>\n",
       "      <td>43.7273</td>\n",
       "      <td>16.636703</td>\n",
       "      <td>1349</td>\n",
       "      <td>1</td>\n",
       "      <td>0</td>\n",
       "      <td>...</td>\n",
       "      <td>0</td>\n",
       "      <td>0</td>\n",
       "      <td>0</td>\n",
       "      <td>0</td>\n",
       "      <td>0</td>\n",
       "      <td>0</td>\n",
       "      <td>1</td>\n",
       "      <td>0</td>\n",
       "      <td>1</td>\n",
       "      <td>0</td>\n",
       "    </tr>\n",
       "    <tr>\n",
       "      <th>3</th>\n",
       "      <td>0</td>\n",
       "      <td>0</td>\n",
       "      <td>1</td>\n",
       "      <td>8.200000</td>\n",
       "      <td>10.60610</td>\n",
       "      <td>59.0435</td>\n",
       "      <td>10.739832</td>\n",
       "      <td>1562</td>\n",
       "      <td>1</td>\n",
       "      <td>0</td>\n",
       "      <td>...</td>\n",
       "      <td>0</td>\n",
       "      <td>0</td>\n",
       "      <td>0</td>\n",
       "      <td>0</td>\n",
       "      <td>1</td>\n",
       "      <td>0</td>\n",
       "      <td>0</td>\n",
       "      <td>0</td>\n",
       "      <td>1</td>\n",
       "      <td>0</td>\n",
       "    </tr>\n",
       "    <tr>\n",
       "      <th>4</th>\n",
       "      <td>0</td>\n",
       "      <td>0</td>\n",
       "      <td>1</td>\n",
       "      <td>9.305237</td>\n",
       "      <td>11.46350</td>\n",
       "      <td>43.6957</td>\n",
       "      <td>12.522300</td>\n",
       "      <td>1600</td>\n",
       "      <td>1</td>\n",
       "      <td>0</td>\n",
       "      <td>...</td>\n",
       "      <td>0</td>\n",
       "      <td>0</td>\n",
       "      <td>0</td>\n",
       "      <td>0</td>\n",
       "      <td>0</td>\n",
       "      <td>0</td>\n",
       "      <td>0</td>\n",
       "      <td>0</td>\n",
       "      <td>1</td>\n",
       "      <td>0</td>\n",
       "    </tr>\n",
       "  </tbody>\n",
       "</table>\n",
       "<p>5 rows × 31 columns</p>\n",
       "</div>"
      ],
      "text/plain": [
       "   yr  holiday  workingday       temp     atemp      hum  windspeed   cnt  \\\n",
       "0   0        0           1  14.110847  18.18125  80.5833  10.749882   985   \n",
       "1   0        0           1  14.902598  17.68695  69.6087  16.652113   801   \n",
       "2   0        0           1   8.050924   9.47025  43.7273  16.636703  1349   \n",
       "3   0        0           1   8.200000  10.60610  59.0435  10.739832  1562   \n",
       "4   0        0           1   9.305237  11.46350  43.6957  12.522300  1600   \n",
       "\n",
       "   season_spring  season_summer  ...  mnth_sep  weekday_mon  weekday_sat  \\\n",
       "0              1              0  ...         0            1            0   \n",
       "1              1              0  ...         0            0            0   \n",
       "2              1              0  ...         0            0            0   \n",
       "3              1              0  ...         0            0            0   \n",
       "4              1              0  ...         0            0            0   \n",
       "\n",
       "   weekday_sun  weekday_thu  weekday_tue  weekday_wed  weathersit_bad  \\\n",
       "0            0            0            0            0               0   \n",
       "1            0            0            1            0               0   \n",
       "2            0            0            0            1               0   \n",
       "3            0            1            0            0               0   \n",
       "4            0            0            0            0               0   \n",
       "\n",
       "   weathersit_good  weathersit_moderate  \n",
       "0                0                    1  \n",
       "1                0                    1  \n",
       "2                1                    0  \n",
       "3                1                    0  \n",
       "4                1                    0  \n",
       "\n",
       "[5 rows x 31 columns]"
      ]
     },
     "execution_count": 40,
     "metadata": {},
     "output_type": "execute_result"
    }
   ],
   "source": [
    "bike.head()"
   ]
  },
  {
   "cell_type": "markdown",
   "metadata": {},
   "source": [
    "#### Splitting the Data into Training and Testing Sets"
   ]
  },
  {
   "cell_type": "code",
   "execution_count": 41,
   "metadata": {},
   "outputs": [],
   "source": [
    "from sklearn.model_selection import train_test_split\n",
    "\n",
    "# We specify this so that the train and test data set always have the same rows, respectively\n",
    "\n",
    "np.random.seed(0)\n",
    "df_train, df_test = train_test_split(bike, train_size = 0.7, test_size = 0.3, random_state = 100)"
   ]
  },
  {
   "cell_type": "markdown",
   "metadata": {},
   "source": [
    "#### Rescaling the Features "
   ]
  },
  {
   "cell_type": "code",
   "execution_count": 42,
   "metadata": {},
   "outputs": [],
   "source": [
    "from sklearn.preprocessing import MinMaxScaler"
   ]
  },
  {
   "cell_type": "code",
   "execution_count": 43,
   "metadata": {},
   "outputs": [],
   "source": [
    "scaler = MinMaxScaler()"
   ]
  },
  {
   "cell_type": "code",
   "execution_count": 44,
   "metadata": {},
   "outputs": [],
   "source": [
    "# Apply scaler() to all the columns except the 'yes-no' and 'dummy' variables\n",
    "num_vars = ['temp','atemp','hum','windspeed','cnt']\n",
    "df_train[num_vars] = scaler.fit_transform(df_train[num_vars])"
   ]
  },
  {
   "cell_type": "code",
   "execution_count": 45,
   "metadata": {},
   "outputs": [
    {
     "data": {
      "text/html": [
       "<div>\n",
       "<style scoped>\n",
       "    .dataframe tbody tr th:only-of-type {\n",
       "        vertical-align: middle;\n",
       "    }\n",
       "\n",
       "    .dataframe tbody tr th {\n",
       "        vertical-align: top;\n",
       "    }\n",
       "\n",
       "    .dataframe thead th {\n",
       "        text-align: right;\n",
       "    }\n",
       "</style>\n",
       "<table border=\"1\" class=\"dataframe\">\n",
       "  <thead>\n",
       "    <tr style=\"text-align: right;\">\n",
       "      <th></th>\n",
       "      <th>yr</th>\n",
       "      <th>holiday</th>\n",
       "      <th>workingday</th>\n",
       "      <th>temp</th>\n",
       "      <th>atemp</th>\n",
       "      <th>hum</th>\n",
       "      <th>windspeed</th>\n",
       "      <th>cnt</th>\n",
       "      <th>season_spring</th>\n",
       "      <th>season_summer</th>\n",
       "      <th>...</th>\n",
       "      <th>mnth_sep</th>\n",
       "      <th>weekday_mon</th>\n",
       "      <th>weekday_sat</th>\n",
       "      <th>weekday_sun</th>\n",
       "      <th>weekday_thu</th>\n",
       "      <th>weekday_tue</th>\n",
       "      <th>weekday_wed</th>\n",
       "      <th>weathersit_bad</th>\n",
       "      <th>weathersit_good</th>\n",
       "      <th>weathersit_moderate</th>\n",
       "    </tr>\n",
       "  </thead>\n",
       "  <tbody>\n",
       "    <tr>\n",
       "      <th>728</th>\n",
       "      <td>1</td>\n",
       "      <td>0</td>\n",
       "      <td>1</td>\n",
       "      <td>0.245101</td>\n",
       "      <td>0.204242</td>\n",
       "      <td>0.319025</td>\n",
       "      <td>0.772556</td>\n",
       "      <td>0.204096</td>\n",
       "      <td>1</td>\n",
       "      <td>0</td>\n",
       "      <td>...</td>\n",
       "      <td>0</td>\n",
       "      <td>1</td>\n",
       "      <td>0</td>\n",
       "      <td>0</td>\n",
       "      <td>0</td>\n",
       "      <td>0</td>\n",
       "      <td>0</td>\n",
       "      <td>0</td>\n",
       "      <td>1</td>\n",
       "      <td>0</td>\n",
       "    </tr>\n",
       "    <tr>\n",
       "      <th>481</th>\n",
       "      <td>1</td>\n",
       "      <td>0</td>\n",
       "      <td>0</td>\n",
       "      <td>0.496388</td>\n",
       "      <td>0.499889</td>\n",
       "      <td>0.204176</td>\n",
       "      <td>0.764739</td>\n",
       "      <td>0.714565</td>\n",
       "      <td>0</td>\n",
       "      <td>1</td>\n",
       "      <td>...</td>\n",
       "      <td>0</td>\n",
       "      <td>0</td>\n",
       "      <td>1</td>\n",
       "      <td>0</td>\n",
       "      <td>0</td>\n",
       "      <td>0</td>\n",
       "      <td>0</td>\n",
       "      <td>0</td>\n",
       "      <td>1</td>\n",
       "      <td>0</td>\n",
       "    </tr>\n",
       "    <tr>\n",
       "      <th>113</th>\n",
       "      <td>0</td>\n",
       "      <td>0</td>\n",
       "      <td>1</td>\n",
       "      <td>0.651106</td>\n",
       "      <td>0.632534</td>\n",
       "      <td>0.774941</td>\n",
       "      <td>0.375373</td>\n",
       "      <td>0.479636</td>\n",
       "      <td>0</td>\n",
       "      <td>1</td>\n",
       "      <td>...</td>\n",
       "      <td>0</td>\n",
       "      <td>0</td>\n",
       "      <td>0</td>\n",
       "      <td>0</td>\n",
       "      <td>0</td>\n",
       "      <td>1</td>\n",
       "      <td>0</td>\n",
       "      <td>0</td>\n",
       "      <td>0</td>\n",
       "      <td>1</td>\n",
       "    </tr>\n",
       "    <tr>\n",
       "      <th>629</th>\n",
       "      <td>1</td>\n",
       "      <td>0</td>\n",
       "      <td>0</td>\n",
       "      <td>0.736253</td>\n",
       "      <td>0.711117</td>\n",
       "      <td>0.546404</td>\n",
       "      <td>0.604317</td>\n",
       "      <td>0.963300</td>\n",
       "      <td>0</td>\n",
       "      <td>0</td>\n",
       "      <td>...</td>\n",
       "      <td>1</td>\n",
       "      <td>0</td>\n",
       "      <td>0</td>\n",
       "      <td>1</td>\n",
       "      <td>0</td>\n",
       "      <td>0</td>\n",
       "      <td>0</td>\n",
       "      <td>0</td>\n",
       "      <td>1</td>\n",
       "      <td>0</td>\n",
       "    </tr>\n",
       "    <tr>\n",
       "      <th>535</th>\n",
       "      <td>1</td>\n",
       "      <td>0</td>\n",
       "      <td>1</td>\n",
       "      <td>0.901354</td>\n",
       "      <td>0.858965</td>\n",
       "      <td>0.470417</td>\n",
       "      <td>0.179101</td>\n",
       "      <td>0.712034</td>\n",
       "      <td>0</td>\n",
       "      <td>1</td>\n",
       "      <td>...</td>\n",
       "      <td>0</td>\n",
       "      <td>0</td>\n",
       "      <td>0</td>\n",
       "      <td>0</td>\n",
       "      <td>1</td>\n",
       "      <td>0</td>\n",
       "      <td>0</td>\n",
       "      <td>0</td>\n",
       "      <td>1</td>\n",
       "      <td>0</td>\n",
       "    </tr>\n",
       "  </tbody>\n",
       "</table>\n",
       "<p>5 rows × 31 columns</p>\n",
       "</div>"
      ],
      "text/plain": [
       "     yr  holiday  workingday      temp     atemp       hum  windspeed  \\\n",
       "728   1        0           1  0.245101  0.204242  0.319025   0.772556   \n",
       "481   1        0           0  0.496388  0.499889  0.204176   0.764739   \n",
       "113   0        0           1  0.651106  0.632534  0.774941   0.375373   \n",
       "629   1        0           0  0.736253  0.711117  0.546404   0.604317   \n",
       "535   1        0           1  0.901354  0.858965  0.470417   0.179101   \n",
       "\n",
       "          cnt  season_spring  season_summer  ...  mnth_sep  weekday_mon  \\\n",
       "728  0.204096              1              0  ...         0            1   \n",
       "481  0.714565              0              1  ...         0            0   \n",
       "113  0.479636              0              1  ...         0            0   \n",
       "629  0.963300              0              0  ...         1            0   \n",
       "535  0.712034              0              1  ...         0            0   \n",
       "\n",
       "     weekday_sat  weekday_sun  weekday_thu  weekday_tue  weekday_wed  \\\n",
       "728            0            0            0            0            0   \n",
       "481            1            0            0            0            0   \n",
       "113            0            0            0            1            0   \n",
       "629            0            1            0            0            0   \n",
       "535            0            0            1            0            0   \n",
       "\n",
       "     weathersit_bad  weathersit_good  weathersit_moderate  \n",
       "728               0                1                    0  \n",
       "481               0                1                    0  \n",
       "113               0                0                    1  \n",
       "629               0                1                    0  \n",
       "535               0                1                    0  \n",
       "\n",
       "[5 rows x 31 columns]"
      ]
     },
     "execution_count": 45,
     "metadata": {},
     "output_type": "execute_result"
    }
   ],
   "source": [
    "df_train.head()"
   ]
  },
  {
   "cell_type": "code",
   "execution_count": 46,
   "metadata": {},
   "outputs": [
    {
     "data": {
      "text/html": [
       "<div>\n",
       "<style scoped>\n",
       "    .dataframe tbody tr th:only-of-type {\n",
       "        vertical-align: middle;\n",
       "    }\n",
       "\n",
       "    .dataframe tbody tr th {\n",
       "        vertical-align: top;\n",
       "    }\n",
       "\n",
       "    .dataframe thead th {\n",
       "        text-align: right;\n",
       "    }\n",
       "</style>\n",
       "<table border=\"1\" class=\"dataframe\">\n",
       "  <thead>\n",
       "    <tr style=\"text-align: right;\">\n",
       "      <th></th>\n",
       "      <th>yr</th>\n",
       "      <th>holiday</th>\n",
       "      <th>workingday</th>\n",
       "      <th>temp</th>\n",
       "      <th>atemp</th>\n",
       "      <th>hum</th>\n",
       "      <th>windspeed</th>\n",
       "      <th>cnt</th>\n",
       "      <th>season_spring</th>\n",
       "      <th>season_summer</th>\n",
       "      <th>...</th>\n",
       "      <th>mnth_sep</th>\n",
       "      <th>weekday_mon</th>\n",
       "      <th>weekday_sat</th>\n",
       "      <th>weekday_sun</th>\n",
       "      <th>weekday_thu</th>\n",
       "      <th>weekday_tue</th>\n",
       "      <th>weekday_wed</th>\n",
       "      <th>weathersit_bad</th>\n",
       "      <th>weathersit_good</th>\n",
       "      <th>weathersit_moderate</th>\n",
       "    </tr>\n",
       "  </thead>\n",
       "  <tbody>\n",
       "    <tr>\n",
       "      <th>count</th>\n",
       "      <td>509.000000</td>\n",
       "      <td>509.000000</td>\n",
       "      <td>509.000000</td>\n",
       "      <td>509.000000</td>\n",
       "      <td>509.000000</td>\n",
       "      <td>509.000000</td>\n",
       "      <td>509.000000</td>\n",
       "      <td>509.000000</td>\n",
       "      <td>509.000000</td>\n",
       "      <td>509.000000</td>\n",
       "      <td>...</td>\n",
       "      <td>509.000000</td>\n",
       "      <td>509.000000</td>\n",
       "      <td>509.000000</td>\n",
       "      <td>509.000000</td>\n",
       "      <td>509.000000</td>\n",
       "      <td>509.000000</td>\n",
       "      <td>509.000000</td>\n",
       "      <td>509.000000</td>\n",
       "      <td>509.000000</td>\n",
       "      <td>509.000000</td>\n",
       "    </tr>\n",
       "    <tr>\n",
       "      <th>mean</th>\n",
       "      <td>0.506876</td>\n",
       "      <td>0.031434</td>\n",
       "      <td>0.687623</td>\n",
       "      <td>0.537164</td>\n",
       "      <td>0.521667</td>\n",
       "      <td>0.529901</td>\n",
       "      <td>0.374965</td>\n",
       "      <td>0.512550</td>\n",
       "      <td>0.241650</td>\n",
       "      <td>0.245580</td>\n",
       "      <td>...</td>\n",
       "      <td>0.080550</td>\n",
       "      <td>0.145383</td>\n",
       "      <td>0.135560</td>\n",
       "      <td>0.147348</td>\n",
       "      <td>0.139489</td>\n",
       "      <td>0.143418</td>\n",
       "      <td>0.147348</td>\n",
       "      <td>0.031434</td>\n",
       "      <td>0.609037</td>\n",
       "      <td>0.359528</td>\n",
       "    </tr>\n",
       "    <tr>\n",
       "      <th>std</th>\n",
       "      <td>0.500445</td>\n",
       "      <td>0.174660</td>\n",
       "      <td>0.463919</td>\n",
       "      <td>0.226375</td>\n",
       "      <td>0.215665</td>\n",
       "      <td>0.199051</td>\n",
       "      <td>0.195571</td>\n",
       "      <td>0.224155</td>\n",
       "      <td>0.428505</td>\n",
       "      <td>0.430854</td>\n",
       "      <td>...</td>\n",
       "      <td>0.272411</td>\n",
       "      <td>0.352833</td>\n",
       "      <td>0.342657</td>\n",
       "      <td>0.354801</td>\n",
       "      <td>0.346797</td>\n",
       "      <td>0.350844</td>\n",
       "      <td>0.354801</td>\n",
       "      <td>0.174660</td>\n",
       "      <td>0.488446</td>\n",
       "      <td>0.480334</td>\n",
       "    </tr>\n",
       "    <tr>\n",
       "      <th>min</th>\n",
       "      <td>0.000000</td>\n",
       "      <td>0.000000</td>\n",
       "      <td>0.000000</td>\n",
       "      <td>0.000000</td>\n",
       "      <td>0.000000</td>\n",
       "      <td>0.000000</td>\n",
       "      <td>0.000000</td>\n",
       "      <td>0.000000</td>\n",
       "      <td>0.000000</td>\n",
       "      <td>0.000000</td>\n",
       "      <td>...</td>\n",
       "      <td>0.000000</td>\n",
       "      <td>0.000000</td>\n",
       "      <td>0.000000</td>\n",
       "      <td>0.000000</td>\n",
       "      <td>0.000000</td>\n",
       "      <td>0.000000</td>\n",
       "      <td>0.000000</td>\n",
       "      <td>0.000000</td>\n",
       "      <td>0.000000</td>\n",
       "      <td>0.000000</td>\n",
       "    </tr>\n",
       "    <tr>\n",
       "      <th>25%</th>\n",
       "      <td>0.000000</td>\n",
       "      <td>0.000000</td>\n",
       "      <td>0.000000</td>\n",
       "      <td>0.336479</td>\n",
       "      <td>0.328412</td>\n",
       "      <td>0.383410</td>\n",
       "      <td>0.230522</td>\n",
       "      <td>0.355844</td>\n",
       "      <td>0.000000</td>\n",
       "      <td>0.000000</td>\n",
       "      <td>...</td>\n",
       "      <td>0.000000</td>\n",
       "      <td>0.000000</td>\n",
       "      <td>0.000000</td>\n",
       "      <td>0.000000</td>\n",
       "      <td>0.000000</td>\n",
       "      <td>0.000000</td>\n",
       "      <td>0.000000</td>\n",
       "      <td>0.000000</td>\n",
       "      <td>0.000000</td>\n",
       "      <td>0.000000</td>\n",
       "    </tr>\n",
       "    <tr>\n",
       "      <th>50%</th>\n",
       "      <td>1.000000</td>\n",
       "      <td>0.000000</td>\n",
       "      <td>1.000000</td>\n",
       "      <td>0.533770</td>\n",
       "      <td>0.530326</td>\n",
       "      <td>0.527262</td>\n",
       "      <td>0.353572</td>\n",
       "      <td>0.516452</td>\n",
       "      <td>0.000000</td>\n",
       "      <td>0.000000</td>\n",
       "      <td>...</td>\n",
       "      <td>0.000000</td>\n",
       "      <td>0.000000</td>\n",
       "      <td>0.000000</td>\n",
       "      <td>0.000000</td>\n",
       "      <td>0.000000</td>\n",
       "      <td>0.000000</td>\n",
       "      <td>0.000000</td>\n",
       "      <td>0.000000</td>\n",
       "      <td>1.000000</td>\n",
       "      <td>0.000000</td>\n",
       "    </tr>\n",
       "    <tr>\n",
       "      <th>75%</th>\n",
       "      <td>1.000000</td>\n",
       "      <td>0.000000</td>\n",
       "      <td>1.000000</td>\n",
       "      <td>0.736253</td>\n",
       "      <td>0.703523</td>\n",
       "      <td>0.669954</td>\n",
       "      <td>0.487485</td>\n",
       "      <td>0.678900</td>\n",
       "      <td>0.000000</td>\n",
       "      <td>0.000000</td>\n",
       "      <td>...</td>\n",
       "      <td>0.000000</td>\n",
       "      <td>0.000000</td>\n",
       "      <td>0.000000</td>\n",
       "      <td>0.000000</td>\n",
       "      <td>0.000000</td>\n",
       "      <td>0.000000</td>\n",
       "      <td>0.000000</td>\n",
       "      <td>0.000000</td>\n",
       "      <td>1.000000</td>\n",
       "      <td>1.000000</td>\n",
       "    </tr>\n",
       "    <tr>\n",
       "      <th>max</th>\n",
       "      <td>1.000000</td>\n",
       "      <td>1.000000</td>\n",
       "      <td>1.000000</td>\n",
       "      <td>1.000000</td>\n",
       "      <td>1.000000</td>\n",
       "      <td>1.000000</td>\n",
       "      <td>1.000000</td>\n",
       "      <td>1.000000</td>\n",
       "      <td>1.000000</td>\n",
       "      <td>1.000000</td>\n",
       "      <td>...</td>\n",
       "      <td>1.000000</td>\n",
       "      <td>1.000000</td>\n",
       "      <td>1.000000</td>\n",
       "      <td>1.000000</td>\n",
       "      <td>1.000000</td>\n",
       "      <td>1.000000</td>\n",
       "      <td>1.000000</td>\n",
       "      <td>1.000000</td>\n",
       "      <td>1.000000</td>\n",
       "      <td>1.000000</td>\n",
       "    </tr>\n",
       "  </tbody>\n",
       "</table>\n",
       "<p>8 rows × 31 columns</p>\n",
       "</div>"
      ],
      "text/plain": [
       "               yr     holiday  workingday        temp       atemp         hum  \\\n",
       "count  509.000000  509.000000  509.000000  509.000000  509.000000  509.000000   \n",
       "mean     0.506876    0.031434    0.687623    0.537164    0.521667    0.529901   \n",
       "std      0.500445    0.174660    0.463919    0.226375    0.215665    0.199051   \n",
       "min      0.000000    0.000000    0.000000    0.000000    0.000000    0.000000   \n",
       "25%      0.000000    0.000000    0.000000    0.336479    0.328412    0.383410   \n",
       "50%      1.000000    0.000000    1.000000    0.533770    0.530326    0.527262   \n",
       "75%      1.000000    0.000000    1.000000    0.736253    0.703523    0.669954   \n",
       "max      1.000000    1.000000    1.000000    1.000000    1.000000    1.000000   \n",
       "\n",
       "        windspeed         cnt  season_spring  season_summer  ...    mnth_sep  \\\n",
       "count  509.000000  509.000000     509.000000     509.000000  ...  509.000000   \n",
       "mean     0.374965    0.512550       0.241650       0.245580  ...    0.080550   \n",
       "std      0.195571    0.224155       0.428505       0.430854  ...    0.272411   \n",
       "min      0.000000    0.000000       0.000000       0.000000  ...    0.000000   \n",
       "25%      0.230522    0.355844       0.000000       0.000000  ...    0.000000   \n",
       "50%      0.353572    0.516452       0.000000       0.000000  ...    0.000000   \n",
       "75%      0.487485    0.678900       0.000000       0.000000  ...    0.000000   \n",
       "max      1.000000    1.000000       1.000000       1.000000  ...    1.000000   \n",
       "\n",
       "       weekday_mon  weekday_sat  weekday_sun  weekday_thu  weekday_tue  \\\n",
       "count   509.000000   509.000000   509.000000   509.000000   509.000000   \n",
       "mean      0.145383     0.135560     0.147348     0.139489     0.143418   \n",
       "std       0.352833     0.342657     0.354801     0.346797     0.350844   \n",
       "min       0.000000     0.000000     0.000000     0.000000     0.000000   \n",
       "25%       0.000000     0.000000     0.000000     0.000000     0.000000   \n",
       "50%       0.000000     0.000000     0.000000     0.000000     0.000000   \n",
       "75%       0.000000     0.000000     0.000000     0.000000     0.000000   \n",
       "max       1.000000     1.000000     1.000000     1.000000     1.000000   \n",
       "\n",
       "       weekday_wed  weathersit_bad  weathersit_good  weathersit_moderate  \n",
       "count   509.000000      509.000000       509.000000           509.000000  \n",
       "mean      0.147348        0.031434         0.609037             0.359528  \n",
       "std       0.354801        0.174660         0.488446             0.480334  \n",
       "min       0.000000        0.000000         0.000000             0.000000  \n",
       "25%       0.000000        0.000000         0.000000             0.000000  \n",
       "50%       0.000000        0.000000         1.000000             0.000000  \n",
       "75%       0.000000        0.000000         1.000000             1.000000  \n",
       "max       1.000000        1.000000         1.000000             1.000000  \n",
       "\n",
       "[8 rows x 31 columns]"
      ]
     },
     "execution_count": 46,
     "metadata": {},
     "output_type": "execute_result"
    }
   ],
   "source": [
    "df_train.describe()"
   ]
  },
  {
   "cell_type": "markdown",
   "metadata": {},
   "source": [
    "#### Dividing into X and Y sets for the model building"
   ]
  },
  {
   "cell_type": "code",
   "execution_count": 47,
   "metadata": {},
   "outputs": [],
   "source": [
    "y_train = df_train.pop('cnt')\n",
    "X_train = df_train"
   ]
  },
  {
   "cell_type": "markdown",
   "metadata": {},
   "source": [
    "### Building a linear model\n",
    "\n",
    "Building linear regression model using the Linear Regression function and RFE utility from sklearn"
   ]
  },
  {
   "cell_type": "markdown",
   "metadata": {},
   "source": [
    "#### RFE: Recursive feature elimination"
   ]
  },
  {
   "cell_type": "code",
   "execution_count": 48,
   "metadata": {},
   "outputs": [],
   "source": [
    "# Importing RFE and LinearRegression\n",
    "from sklearn.feature_selection import RFE\n",
    "from sklearn.linear_model import LinearRegression"
   ]
  },
  {
   "cell_type": "code",
   "execution_count": 49,
   "metadata": {},
   "outputs": [],
   "source": [
    "# Running RFE with the output number of the variable equal to 15\n",
    "lrm = LinearRegression()\n",
    "lrm.fit(X_train, y_train)\n",
    "rfe = RFE(lrm, n_features_to_select=15)             \n",
    "rfe = rfe.fit(X_train, y_train)"
   ]
  },
  {
   "cell_type": "code",
   "execution_count": 50,
   "metadata": {},
   "outputs": [
    {
     "data": {
      "text/plain": [
       "[('yr', True, 1),\n",
       " ('holiday', True, 1),\n",
       " ('workingday', False, 12),\n",
       " ('temp', True, 1),\n",
       " ('atemp', True, 1),\n",
       " ('hum', True, 1),\n",
       " ('windspeed', True, 1),\n",
       " ('season_spring', True, 1),\n",
       " ('season_summer', False, 9),\n",
       " ('season_winter', True, 1),\n",
       " ('mnth_aug', False, 14),\n",
       " ('mnth_dec', False, 2),\n",
       " ('mnth_feb', True, 1),\n",
       " ('mnth_jan', True, 1),\n",
       " ('mnth_jul', True, 1),\n",
       " ('mnth_jun', False, 10),\n",
       " ('mnth_mar', False, 8),\n",
       " ('mnth_may', False, 4),\n",
       " ('mnth_nov', True, 1),\n",
       " ('mnth_oct', False, 16),\n",
       " ('mnth_sep', True, 1),\n",
       " ('weekday_mon', False, 6),\n",
       " ('weekday_sat', False, 11),\n",
       " ('weekday_sun', False, 13),\n",
       " ('weekday_thu', False, 15),\n",
       " ('weekday_tue', False, 5),\n",
       " ('weekday_wed', False, 7),\n",
       " ('weathersit_bad', True, 1),\n",
       " ('weathersit_good', True, 1),\n",
       " ('weathersit_moderate', False, 3)]"
      ]
     },
     "execution_count": 50,
     "metadata": {},
     "output_type": "execute_result"
    }
   ],
   "source": [
    "list(zip(X_train.columns,rfe.support_,rfe.ranking_))"
   ]
  },
  {
   "cell_type": "code",
   "execution_count": 51,
   "metadata": {},
   "outputs": [
    {
     "data": {
      "text/plain": [
       "Index(['yr', 'holiday', 'temp', 'atemp', 'hum', 'windspeed', 'season_spring',\n",
       "       'season_winter', 'mnth_feb', 'mnth_jan', 'mnth_jul', 'mnth_nov',\n",
       "       'mnth_sep', 'weathersit_bad', 'weathersit_good'],\n",
       "      dtype='object')"
      ]
     },
     "execution_count": 51,
     "metadata": {},
     "output_type": "execute_result"
    }
   ],
   "source": [
    "col = X_train.columns[rfe.support_];col"
   ]
  },
  {
   "cell_type": "code",
   "execution_count": 52,
   "metadata": {},
   "outputs": [
    {
     "data": {
      "text/plain": [
       "Index(['workingday', 'season_summer', 'mnth_aug', 'mnth_dec', 'mnth_jun',\n",
       "       'mnth_mar', 'mnth_may', 'mnth_oct', 'weekday_mon', 'weekday_sat',\n",
       "       'weekday_sun', 'weekday_thu', 'weekday_tue', 'weekday_wed',\n",
       "       'weathersit_moderate'],\n",
       "      dtype='object')"
      ]
     },
     "execution_count": 52,
     "metadata": {},
     "output_type": "execute_result"
    }
   ],
   "source": [
    "X_train.columns[~rfe.support_]"
   ]
  },
  {
   "cell_type": "markdown",
   "metadata": {},
   "source": [
    "#### Building model using statsmodel, for the detailed statistics"
   ]
  },
  {
   "cell_type": "code",
   "execution_count": 53,
   "metadata": {},
   "outputs": [],
   "source": [
    "# Creating X_test dataframe with RFE selected variables\n",
    "X_train_rfe = X_train[col]"
   ]
  },
  {
   "cell_type": "code",
   "execution_count": 54,
   "metadata": {},
   "outputs": [],
   "source": [
    "# Adding a constant variable \n",
    "import statsmodels.api as sm  \n",
    "X_train_rfe = sm.add_constant(X_train_rfe)"
   ]
  },
  {
   "cell_type": "code",
   "execution_count": 55,
   "metadata": {},
   "outputs": [],
   "source": [
    "lm = sm.OLS(y_train,X_train_rfe).fit()   # Running the linear model"
   ]
  },
  {
   "cell_type": "code",
   "execution_count": 56,
   "metadata": {},
   "outputs": [
    {
     "name": "stdout",
     "output_type": "stream",
     "text": [
      "                            OLS Regression Results                            \n",
      "==============================================================================\n",
      "Dep. Variable:                    cnt   R-squared:                       0.845\n",
      "Model:                            OLS   Adj. R-squared:                  0.840\n",
      "Method:                 Least Squares   F-statistic:                     179.3\n",
      "Date:                Tue, 05 Apr 2022   Prob (F-statistic):          1.59e-188\n",
      "Time:                        20:07:13   Log-Likelihood:                 514.04\n",
      "No. Observations:                 509   AIC:                            -996.1\n",
      "Df Residuals:                     493   BIC:                            -928.4\n",
      "Df Model:                          15                                         \n",
      "Covariance Type:            nonrobust                                         \n",
      "===================================================================================\n",
      "                      coef    std err          t      P>|t|      [0.025      0.975]\n",
      "-----------------------------------------------------------------------------------\n",
      "const               0.2672      0.030      9.037      0.000       0.209       0.325\n",
      "yr                  0.2229      0.008     27.347      0.000       0.207       0.239\n",
      "holiday            -0.0640      0.023     -2.795      0.005      -0.109      -0.019\n",
      "temp                0.2911      0.126      2.306      0.022       0.043       0.539\n",
      "atemp               0.1911      0.131      1.460      0.145      -0.066       0.448\n",
      "hum                -0.1462      0.029     -5.003      0.000      -0.204      -0.089\n",
      "windspeed          -0.1265      0.022     -5.631      0.000      -0.171      -0.082\n",
      "season_spring      -0.0984      0.018     -5.565      0.000      -0.133      -0.064\n",
      "season_winter       0.0528      0.013      3.974      0.000       0.027       0.079\n",
      "mnth_feb           -0.0293      0.021     -1.416      0.157      -0.070       0.011\n",
      "mnth_jan           -0.0410      0.020     -2.064      0.040      -0.080      -0.002\n",
      "mnth_jul           -0.0742      0.017     -4.309      0.000      -0.108      -0.040\n",
      "mnth_nov           -0.0276      0.017     -1.640      0.102      -0.061       0.005\n",
      "mnth_sep            0.0666      0.015      4.322      0.000       0.036       0.097\n",
      "weathersit_bad     -0.1749      0.025     -7.010      0.000      -0.224      -0.126\n",
      "weathersit_good     0.0455      0.011      4.226      0.000       0.024       0.067\n",
      "==============================================================================\n",
      "Omnibus:                       82.943   Durbin-Watson:                   2.068\n",
      "Prob(Omnibus):                  0.000   Jarque-Bera (JB):              219.329\n",
      "Skew:                          -0.808   Prob(JB):                     2.36e-48\n",
      "Kurtosis:                       5.780   Cond. No.                         76.5\n",
      "==============================================================================\n",
      "\n",
      "Notes:\n",
      "[1] Standard Errors assume that the covariance matrix of the errors is correctly specified.\n"
     ]
    }
   ],
   "source": [
    "#Let's see the summary of our linear model\n",
    "print(lm.summary())"
   ]
  },
  {
   "cell_type": "code",
   "execution_count": 57,
   "metadata": {},
   "outputs": [
    {
     "data": {
      "text/html": [
       "<div>\n",
       "<style scoped>\n",
       "    .dataframe tbody tr th:only-of-type {\n",
       "        vertical-align: middle;\n",
       "    }\n",
       "\n",
       "    .dataframe tbody tr th {\n",
       "        vertical-align: top;\n",
       "    }\n",
       "\n",
       "    .dataframe thead th {\n",
       "        text-align: right;\n",
       "    }\n",
       "</style>\n",
       "<table border=\"1\" class=\"dataframe\">\n",
       "  <thead>\n",
       "    <tr style=\"text-align: right;\">\n",
       "      <th></th>\n",
       "      <th>Features</th>\n",
       "      <th>VIF</th>\n",
       "    </tr>\n",
       "  </thead>\n",
       "  <tbody>\n",
       "    <tr>\n",
       "      <th>0</th>\n",
       "      <td>const</td>\n",
       "      <td>55.47</td>\n",
       "    </tr>\n",
       "    <tr>\n",
       "      <th>3</th>\n",
       "      <td>temp</td>\n",
       "      <td>51.70</td>\n",
       "    </tr>\n",
       "    <tr>\n",
       "      <th>4</th>\n",
       "      <td>atemp</td>\n",
       "      <td>50.43</td>\n",
       "    </tr>\n",
       "    <tr>\n",
       "      <th>7</th>\n",
       "      <td>season_spring</td>\n",
       "      <td>3.63</td>\n",
       "    </tr>\n",
       "    <tr>\n",
       "      <th>5</th>\n",
       "      <td>hum</td>\n",
       "      <td>2.14</td>\n",
       "    </tr>\n",
       "    <tr>\n",
       "      <th>8</th>\n",
       "      <td>season_winter</td>\n",
       "      <td>2.12</td>\n",
       "    </tr>\n",
       "    <tr>\n",
       "      <th>10</th>\n",
       "      <td>mnth_jan</td>\n",
       "      <td>2.02</td>\n",
       "    </tr>\n",
       "    <tr>\n",
       "      <th>9</th>\n",
       "      <td>mnth_feb</td>\n",
       "      <td>1.78</td>\n",
       "    </tr>\n",
       "    <tr>\n",
       "      <th>15</th>\n",
       "      <td>weathersit_good</td>\n",
       "      <td>1.75</td>\n",
       "    </tr>\n",
       "    <tr>\n",
       "      <th>12</th>\n",
       "      <td>mnth_nov</td>\n",
       "      <td>1.48</td>\n",
       "    </tr>\n",
       "    <tr>\n",
       "      <th>11</th>\n",
       "      <td>mnth_jul</td>\n",
       "      <td>1.33</td>\n",
       "    </tr>\n",
       "    <tr>\n",
       "      <th>6</th>\n",
       "      <td>windspeed</td>\n",
       "      <td>1.22</td>\n",
       "    </tr>\n",
       "    <tr>\n",
       "      <th>14</th>\n",
       "      <td>weathersit_bad</td>\n",
       "      <td>1.20</td>\n",
       "    </tr>\n",
       "    <tr>\n",
       "      <th>13</th>\n",
       "      <td>mnth_sep</td>\n",
       "      <td>1.12</td>\n",
       "    </tr>\n",
       "    <tr>\n",
       "      <th>1</th>\n",
       "      <td>yr</td>\n",
       "      <td>1.05</td>\n",
       "    </tr>\n",
       "    <tr>\n",
       "      <th>2</th>\n",
       "      <td>holiday</td>\n",
       "      <td>1.01</td>\n",
       "    </tr>\n",
       "  </tbody>\n",
       "</table>\n",
       "</div>"
      ],
      "text/plain": [
       "           Features    VIF\n",
       "0             const  55.47\n",
       "3              temp  51.70\n",
       "4             atemp  50.43\n",
       "7     season_spring   3.63\n",
       "5               hum   2.14\n",
       "8     season_winter   2.12\n",
       "10         mnth_jan   2.02\n",
       "9          mnth_feb   1.78\n",
       "15  weathersit_good   1.75\n",
       "12         mnth_nov   1.48\n",
       "11         mnth_jul   1.33\n",
       "6         windspeed   1.22\n",
       "14   weathersit_bad   1.20\n",
       "13         mnth_sep   1.12\n",
       "1                yr   1.05\n",
       "2           holiday   1.01"
      ]
     },
     "execution_count": 57,
     "metadata": {},
     "output_type": "execute_result"
    }
   ],
   "source": [
    "# Calculate the VIFs for the model\n",
    "from statsmodels.stats.outliers_influence import variance_inflation_factor\n",
    "\n",
    "vif = pd.DataFrame()\n",
    "X = X_train_rfe\n",
    "vif['Features'] = X.columns\n",
    "vif['VIF'] = [variance_inflation_factor(X.values, i) for i in range(X.shape[1])]\n",
    "vif['VIF'] = round(vif['VIF'], 2)\n",
    "vif = vif.sort_values(by = \"VIF\", ascending = False)\n",
    "vif"
   ]
  },
  {
   "cell_type": "code",
   "execution_count": 58,
   "metadata": {},
   "outputs": [],
   "source": [
    "# atemp has \"both high VIF value and high p-value\". So this can be eliminated first"
   ]
  },
  {
   "cell_type": "code",
   "execution_count": 59,
   "metadata": {},
   "outputs": [
    {
     "name": "stdout",
     "output_type": "stream",
     "text": [
      "                            OLS Regression Results                            \n",
      "==============================================================================\n",
      "Dep. Variable:                    cnt   R-squared:                       0.844\n",
      "Model:                            OLS   Adj. R-squared:                  0.840\n",
      "Method:                 Least Squares   F-statistic:                     191.5\n",
      "Date:                Tue, 05 Apr 2022   Prob (F-statistic):          3.26e-189\n",
      "Time:                        20:07:13   Log-Likelihood:                 512.94\n",
      "No. Observations:                 509   AIC:                            -995.9\n",
      "Df Residuals:                     494   BIC:                            -932.4\n",
      "Df Model:                          14                                         \n",
      "Covariance Type:            nonrobust                                         \n",
      "===================================================================================\n",
      "                      coef    std err          t      P>|t|      [0.025      0.975]\n",
      "-----------------------------------------------------------------------------------\n",
      "const               0.2708      0.029      9.183      0.000       0.213       0.329\n",
      "yr                  0.2230      0.008     27.325      0.000       0.207       0.239\n",
      "holiday            -0.0651      0.023     -2.842      0.005      -0.110      -0.020\n",
      "temp                0.4695      0.032     14.772      0.000       0.407       0.532\n",
      "hum                -0.1432      0.029     -4.906      0.000      -0.201      -0.086\n",
      "windspeed          -0.1312      0.022     -5.896      0.000      -0.175      -0.087\n",
      "season_spring      -0.0987      0.018     -5.579      0.000      -0.133      -0.064\n",
      "season_winter       0.0541      0.013      4.082      0.000       0.028       0.080\n",
      "mnth_feb           -0.0296      0.021     -1.429      0.154      -0.070       0.011\n",
      "mnth_jan           -0.0423      0.020     -2.125      0.034      -0.081      -0.003\n",
      "mnth_jul           -0.0741      0.017     -4.298      0.000      -0.108      -0.040\n",
      "mnth_nov           -0.0278      0.017     -1.654      0.099      -0.061       0.005\n",
      "mnth_sep            0.0660      0.015      4.277      0.000       0.036       0.096\n",
      "weathersit_bad     -0.1769      0.025     -7.089      0.000      -0.226      -0.128\n",
      "weathersit_good     0.0460      0.011      4.275      0.000       0.025       0.067\n",
      "==============================================================================\n",
      "Omnibus:                       81.949   Durbin-Watson:                   2.072\n",
      "Prob(Omnibus):                  0.000   Jarque-Bera (JB):              217.189\n",
      "Skew:                          -0.798   Prob(JB):                     6.89e-48\n",
      "Kurtosis:                       5.774   Cond. No.                         16.7\n",
      "==============================================================================\n",
      "\n",
      "Notes:\n",
      "[1] Standard Errors assume that the covariance matrix of the errors is correctly specified.\n"
     ]
    }
   ],
   "source": [
    "# `atemp` is insignificant in presence of other variables; can be dropped\n",
    "X_train_new = X_train_rfe.drop(['atemp'], axis = 1)\n",
    "\n",
    "# Rebuilding the model without `atemp`\n",
    "\n",
    "# Adding a constant variable \n",
    "X_train_lm = sm.add_constant(X_train_new)\n",
    "\n",
    "# Running the linear model\n",
    "lm = sm.OLS(y_train,X_train_lm).fit()   \n",
    "\n",
    "#Let's see the summary of our linear model\n",
    "print(lm.summary())"
   ]
  },
  {
   "cell_type": "code",
   "execution_count": 60,
   "metadata": {},
   "outputs": [
    {
     "data": {
      "text/html": [
       "<div>\n",
       "<style scoped>\n",
       "    .dataframe tbody tr th:only-of-type {\n",
       "        vertical-align: middle;\n",
       "    }\n",
       "\n",
       "    .dataframe tbody tr th {\n",
       "        vertical-align: top;\n",
       "    }\n",
       "\n",
       "    .dataframe thead th {\n",
       "        text-align: right;\n",
       "    }\n",
       "</style>\n",
       "<table border=\"1\" class=\"dataframe\">\n",
       "  <thead>\n",
       "    <tr style=\"text-align: right;\">\n",
       "      <th></th>\n",
       "      <th>Features</th>\n",
       "      <th>VIF</th>\n",
       "    </tr>\n",
       "  </thead>\n",
       "  <tbody>\n",
       "    <tr>\n",
       "      <th>0</th>\n",
       "      <td>const</td>\n",
       "      <td>55.07</td>\n",
       "    </tr>\n",
       "    <tr>\n",
       "      <th>6</th>\n",
       "      <td>season_spring</td>\n",
       "      <td>3.63</td>\n",
       "    </tr>\n",
       "    <tr>\n",
       "      <th>3</th>\n",
       "      <td>temp</td>\n",
       "      <td>3.27</td>\n",
       "    </tr>\n",
       "    <tr>\n",
       "      <th>4</th>\n",
       "      <td>hum</td>\n",
       "      <td>2.13</td>\n",
       "    </tr>\n",
       "    <tr>\n",
       "      <th>7</th>\n",
       "      <td>season_winter</td>\n",
       "      <td>2.11</td>\n",
       "    </tr>\n",
       "    <tr>\n",
       "      <th>9</th>\n",
       "      <td>mnth_jan</td>\n",
       "      <td>2.02</td>\n",
       "    </tr>\n",
       "    <tr>\n",
       "      <th>8</th>\n",
       "      <td>mnth_feb</td>\n",
       "      <td>1.78</td>\n",
       "    </tr>\n",
       "    <tr>\n",
       "      <th>14</th>\n",
       "      <td>weathersit_good</td>\n",
       "      <td>1.75</td>\n",
       "    </tr>\n",
       "    <tr>\n",
       "      <th>11</th>\n",
       "      <td>mnth_nov</td>\n",
       "      <td>1.48</td>\n",
       "    </tr>\n",
       "    <tr>\n",
       "      <th>10</th>\n",
       "      <td>mnth_jul</td>\n",
       "      <td>1.33</td>\n",
       "    </tr>\n",
       "    <tr>\n",
       "      <th>5</th>\n",
       "      <td>windspeed</td>\n",
       "      <td>1.20</td>\n",
       "    </tr>\n",
       "    <tr>\n",
       "      <th>13</th>\n",
       "      <td>weathersit_bad</td>\n",
       "      <td>1.20</td>\n",
       "    </tr>\n",
       "    <tr>\n",
       "      <th>12</th>\n",
       "      <td>mnth_sep</td>\n",
       "      <td>1.12</td>\n",
       "    </tr>\n",
       "    <tr>\n",
       "      <th>1</th>\n",
       "      <td>yr</td>\n",
       "      <td>1.05</td>\n",
       "    </tr>\n",
       "    <tr>\n",
       "      <th>2</th>\n",
       "      <td>holiday</td>\n",
       "      <td>1.01</td>\n",
       "    </tr>\n",
       "  </tbody>\n",
       "</table>\n",
       "</div>"
      ],
      "text/plain": [
       "           Features    VIF\n",
       "0             const  55.07\n",
       "6     season_spring   3.63\n",
       "3              temp   3.27\n",
       "4               hum   2.13\n",
       "7     season_winter   2.11\n",
       "9          mnth_jan   2.02\n",
       "8          mnth_feb   1.78\n",
       "14  weathersit_good   1.75\n",
       "11         mnth_nov   1.48\n",
       "10         mnth_jul   1.33\n",
       "5         windspeed   1.20\n",
       "13   weathersit_bad   1.20\n",
       "12         mnth_sep   1.12\n",
       "1                yr   1.05\n",
       "2           holiday   1.01"
      ]
     },
     "execution_count": 60,
     "metadata": {},
     "output_type": "execute_result"
    }
   ],
   "source": [
    "# Calculate the VIFs for the model\n",
    "from statsmodels.stats.outliers_influence import variance_inflation_factor\n",
    "\n",
    "vif = pd.DataFrame()\n",
    "X = X_train_new\n",
    "vif['Features'] = X.columns\n",
    "vif['VIF'] = [variance_inflation_factor(X.values, i) for i in range(X.shape[1])]\n",
    "vif['VIF'] = round(vif['VIF'], 2)\n",
    "vif = vif.sort_values(by = \"VIF\", ascending = False)\n",
    "vif"
   ]
  },
  {
   "cell_type": "code",
   "execution_count": 61,
   "metadata": {},
   "outputs": [
    {
     "name": "stdout",
     "output_type": "stream",
     "text": [
      "                            OLS Regression Results                            \n",
      "==============================================================================\n",
      "Dep. Variable:                    cnt   R-squared:                       0.844\n",
      "Model:                            OLS   Adj. R-squared:                  0.840\n",
      "Method:                 Least Squares   F-statistic:                     205.6\n",
      "Date:                Tue, 05 Apr 2022   Prob (F-statistic):          6.14e-190\n",
      "Time:                        20:07:13   Log-Likelihood:                 511.89\n",
      "No. Observations:                 509   AIC:                            -995.8\n",
      "Df Residuals:                     495   BIC:                            -936.5\n",
      "Df Model:                          13                                         \n",
      "Covariance Type:            nonrobust                                         \n",
      "===================================================================================\n",
      "                      coef    std err          t      P>|t|      [0.025      0.975]\n",
      "-----------------------------------------------------------------------------------\n",
      "const               0.2648      0.029      9.062      0.000       0.207       0.322\n",
      "yr                  0.2228      0.008     27.274      0.000       0.207       0.239\n",
      "holiday            -0.0663      0.023     -2.896      0.004      -0.111      -0.021\n",
      "temp                0.4753      0.032     15.064      0.000       0.413       0.537\n",
      "hum                -0.1416      0.029     -4.851      0.000      -0.199      -0.084\n",
      "windspeed          -0.1280      0.022     -5.777      0.000      -0.172      -0.084\n",
      "season_spring      -0.1105      0.016     -7.051      0.000      -0.141      -0.080\n",
      "season_winter       0.0553      0.013      4.172      0.000       0.029       0.081\n",
      "mnth_jan           -0.0279      0.017     -1.623      0.105      -0.062       0.006\n",
      "mnth_jul           -0.0750      0.017     -4.350      0.000      -0.109      -0.041\n",
      "mnth_nov           -0.0274      0.017     -1.623      0.105      -0.060       0.006\n",
      "mnth_sep            0.0657      0.015      4.258      0.000       0.035       0.096\n",
      "weathersit_bad     -0.1765      0.025     -7.067      0.000      -0.226      -0.127\n",
      "weathersit_good     0.0465      0.011      4.315      0.000       0.025       0.068\n",
      "==============================================================================\n",
      "Omnibus:                       77.820   Durbin-Watson:                   2.064\n",
      "Prob(Omnibus):                  0.000   Jarque-Bera (JB):              210.979\n",
      "Skew:                          -0.752   Prob(JB):                     1.54e-46\n",
      "Kurtosis:                       5.773   Cond. No.                         16.5\n",
      "==============================================================================\n",
      "\n",
      "Notes:\n",
      "[1] Standard Errors assume that the covariance matrix of the errors is correctly specified.\n"
     ]
    }
   ],
   "source": [
    "# `mnth_feb` is insignificant(p-value>0.05) in presence of other variables; can be dropped\n",
    "X_train_new = X_train_new.drop(['mnth_feb'], axis = 1)\n",
    "\n",
    "# Rebuilding the model without `mnth_feb`\n",
    "\n",
    "# Adding a constant variable \n",
    "X_train_lm = sm.add_constant(X_train_new)\n",
    "\n",
    "# Running the linear model\n",
    "lm = sm.OLS(y_train,X_train_lm).fit()   \n",
    "\n",
    "#Let's see the summary of our linear model\n",
    "print(lm.summary())"
   ]
  },
  {
   "cell_type": "code",
   "execution_count": 62,
   "metadata": {},
   "outputs": [
    {
     "data": {
      "text/html": [
       "<div>\n",
       "<style scoped>\n",
       "    .dataframe tbody tr th:only-of-type {\n",
       "        vertical-align: middle;\n",
       "    }\n",
       "\n",
       "    .dataframe tbody tr th {\n",
       "        vertical-align: top;\n",
       "    }\n",
       "\n",
       "    .dataframe thead th {\n",
       "        text-align: right;\n",
       "    }\n",
       "</style>\n",
       "<table border=\"1\" class=\"dataframe\">\n",
       "  <thead>\n",
       "    <tr style=\"text-align: right;\">\n",
       "      <th></th>\n",
       "      <th>Features</th>\n",
       "      <th>VIF</th>\n",
       "    </tr>\n",
       "  </thead>\n",
       "  <tbody>\n",
       "    <tr>\n",
       "      <th>0</th>\n",
       "      <td>const</td>\n",
       "      <td>53.95</td>\n",
       "    </tr>\n",
       "    <tr>\n",
       "      <th>3</th>\n",
       "      <td>temp</td>\n",
       "      <td>3.22</td>\n",
       "    </tr>\n",
       "    <tr>\n",
       "      <th>6</th>\n",
       "      <td>season_spring</td>\n",
       "      <td>2.84</td>\n",
       "    </tr>\n",
       "    <tr>\n",
       "      <th>4</th>\n",
       "      <td>hum</td>\n",
       "      <td>2.13</td>\n",
       "    </tr>\n",
       "    <tr>\n",
       "      <th>7</th>\n",
       "      <td>season_winter</td>\n",
       "      <td>2.10</td>\n",
       "    </tr>\n",
       "    <tr>\n",
       "      <th>13</th>\n",
       "      <td>weathersit_good</td>\n",
       "      <td>1.74</td>\n",
       "    </tr>\n",
       "    <tr>\n",
       "      <th>8</th>\n",
       "      <td>mnth_jan</td>\n",
       "      <td>1.50</td>\n",
       "    </tr>\n",
       "    <tr>\n",
       "      <th>10</th>\n",
       "      <td>mnth_nov</td>\n",
       "      <td>1.48</td>\n",
       "    </tr>\n",
       "    <tr>\n",
       "      <th>9</th>\n",
       "      <td>mnth_jul</td>\n",
       "      <td>1.33</td>\n",
       "    </tr>\n",
       "    <tr>\n",
       "      <th>12</th>\n",
       "      <td>weathersit_bad</td>\n",
       "      <td>1.20</td>\n",
       "    </tr>\n",
       "    <tr>\n",
       "      <th>5</th>\n",
       "      <td>windspeed</td>\n",
       "      <td>1.19</td>\n",
       "    </tr>\n",
       "    <tr>\n",
       "      <th>11</th>\n",
       "      <td>mnth_sep</td>\n",
       "      <td>1.12</td>\n",
       "    </tr>\n",
       "    <tr>\n",
       "      <th>1</th>\n",
       "      <td>yr</td>\n",
       "      <td>1.05</td>\n",
       "    </tr>\n",
       "    <tr>\n",
       "      <th>2</th>\n",
       "      <td>holiday</td>\n",
       "      <td>1.01</td>\n",
       "    </tr>\n",
       "  </tbody>\n",
       "</table>\n",
       "</div>"
      ],
      "text/plain": [
       "           Features    VIF\n",
       "0             const  53.95\n",
       "3              temp   3.22\n",
       "6     season_spring   2.84\n",
       "4               hum   2.13\n",
       "7     season_winter   2.10\n",
       "13  weathersit_good   1.74\n",
       "8          mnth_jan   1.50\n",
       "10         mnth_nov   1.48\n",
       "9          mnth_jul   1.33\n",
       "12   weathersit_bad   1.20\n",
       "5         windspeed   1.19\n",
       "11         mnth_sep   1.12\n",
       "1                yr   1.05\n",
       "2           holiday   1.01"
      ]
     },
     "execution_count": 62,
     "metadata": {},
     "output_type": "execute_result"
    }
   ],
   "source": [
    "# Calculate the VIFs for the model\n",
    "from statsmodels.stats.outliers_influence import variance_inflation_factor\n",
    "\n",
    "vif = pd.DataFrame()\n",
    "X = X_train_new\n",
    "vif['Features'] = X.columns\n",
    "vif['VIF'] = [variance_inflation_factor(X.values, i) for i in range(X.shape[1])]\n",
    "vif['VIF'] = round(vif['VIF'], 2)\n",
    "vif = vif.sort_values(by = \"VIF\", ascending = False)\n",
    "vif"
   ]
  },
  {
   "cell_type": "code",
   "execution_count": 63,
   "metadata": {},
   "outputs": [
    {
     "name": "stdout",
     "output_type": "stream",
     "text": [
      "                            OLS Regression Results                            \n",
      "==============================================================================\n",
      "Dep. Variable:                    cnt   R-squared:                       0.843\n",
      "Model:                            OLS   Adj. R-squared:                  0.839\n",
      "Method:                 Least Squares   F-statistic:                     221.8\n",
      "Date:                Tue, 05 Apr 2022   Prob (F-statistic):          1.49e-190\n",
      "Time:                        20:07:13   Log-Likelihood:                 510.54\n",
      "No. Observations:                 509   AIC:                            -995.1\n",
      "Df Residuals:                     496   BIC:                            -940.1\n",
      "Df Model:                          12                                         \n",
      "Covariance Type:            nonrobust                                         \n",
      "===================================================================================\n",
      "                      coef    std err          t      P>|t|      [0.025      0.975]\n",
      "-----------------------------------------------------------------------------------\n",
      "const               0.2593      0.029      8.919      0.000       0.202       0.316\n",
      "yr                  0.2224      0.008     27.193      0.000       0.206       0.238\n",
      "holiday            -0.0678      0.023     -2.957      0.003      -0.113      -0.023\n",
      "temp                0.4854      0.031     15.671      0.000       0.425       0.546\n",
      "hum                -0.1435      0.029     -4.911      0.000      -0.201      -0.086\n",
      "windspeed          -0.1269      0.022     -5.720      0.000      -0.171      -0.083\n",
      "season_spring      -0.1171      0.015     -7.727      0.000      -0.147      -0.087\n",
      "season_winter       0.0572      0.013      4.330      0.000       0.031       0.083\n",
      "mnth_jul           -0.0771      0.017     -4.471      0.000      -0.111      -0.043\n",
      "mnth_nov           -0.0266      0.017     -1.574      0.116      -0.060       0.007\n",
      "mnth_sep            0.0652      0.015      4.219      0.000       0.035       0.096\n",
      "weathersit_bad     -0.1754      0.025     -7.015      0.000      -0.225      -0.126\n",
      "weathersit_good     0.0458      0.011      4.252      0.000       0.025       0.067\n",
      "==============================================================================\n",
      "Omnibus:                       74.832   Durbin-Watson:                   2.052\n",
      "Prob(Omnibus):                  0.000   Jarque-Bera (JB):              205.009\n",
      "Skew:                          -0.720   Prob(JB):                     3.04e-45\n",
      "Kurtosis:                       5.756   Cond. No.                         16.4\n",
      "==============================================================================\n",
      "\n",
      "Notes:\n",
      "[1] Standard Errors assume that the covariance matrix of the errors is correctly specified.\n"
     ]
    }
   ],
   "source": [
    "# `mnth_jan` is insignificant(p-value>0.05) in presence of other variables; can be dropped\n",
    "X_train_new = X_train_new.drop(['mnth_jan'], axis = 1)\n",
    "\n",
    "# Rebuilding the model without `mnth_jan`\n",
    "\n",
    "# Adding a constant variable \n",
    "X_train_lm = sm.add_constant(X_train_new)\n",
    "\n",
    "# Running the linear model\n",
    "lm = sm.OLS(y_train,X_train_lm).fit()   \n",
    "\n",
    "#Let's see the summary of our linear model\n",
    "print(lm.summary())"
   ]
  },
  {
   "cell_type": "code",
   "execution_count": 64,
   "metadata": {},
   "outputs": [
    {
     "data": {
      "text/html": [
       "<div>\n",
       "<style scoped>\n",
       "    .dataframe tbody tr th:only-of-type {\n",
       "        vertical-align: middle;\n",
       "    }\n",
       "\n",
       "    .dataframe tbody tr th {\n",
       "        vertical-align: top;\n",
       "    }\n",
       "\n",
       "    .dataframe thead th {\n",
       "        text-align: right;\n",
       "    }\n",
       "</style>\n",
       "<table border=\"1\" class=\"dataframe\">\n",
       "  <thead>\n",
       "    <tr style=\"text-align: right;\">\n",
       "      <th></th>\n",
       "      <th>Features</th>\n",
       "      <th>VIF</th>\n",
       "    </tr>\n",
       "  </thead>\n",
       "  <tbody>\n",
       "    <tr>\n",
       "      <th>0</th>\n",
       "      <td>const</td>\n",
       "      <td>53.22</td>\n",
       "    </tr>\n",
       "    <tr>\n",
       "      <th>3</th>\n",
       "      <td>temp</td>\n",
       "      <td>3.09</td>\n",
       "    </tr>\n",
       "    <tr>\n",
       "      <th>6</th>\n",
       "      <td>season_spring</td>\n",
       "      <td>2.65</td>\n",
       "    </tr>\n",
       "    <tr>\n",
       "      <th>4</th>\n",
       "      <td>hum</td>\n",
       "      <td>2.13</td>\n",
       "    </tr>\n",
       "    <tr>\n",
       "      <th>7</th>\n",
       "      <td>season_winter</td>\n",
       "      <td>2.08</td>\n",
       "    </tr>\n",
       "    <tr>\n",
       "      <th>12</th>\n",
       "      <td>weathersit_good</td>\n",
       "      <td>1.74</td>\n",
       "    </tr>\n",
       "    <tr>\n",
       "      <th>9</th>\n",
       "      <td>mnth_nov</td>\n",
       "      <td>1.47</td>\n",
       "    </tr>\n",
       "    <tr>\n",
       "      <th>8</th>\n",
       "      <td>mnth_jul</td>\n",
       "      <td>1.32</td>\n",
       "    </tr>\n",
       "    <tr>\n",
       "      <th>11</th>\n",
       "      <td>weathersit_bad</td>\n",
       "      <td>1.20</td>\n",
       "    </tr>\n",
       "    <tr>\n",
       "      <th>5</th>\n",
       "      <td>windspeed</td>\n",
       "      <td>1.18</td>\n",
       "    </tr>\n",
       "    <tr>\n",
       "      <th>10</th>\n",
       "      <td>mnth_sep</td>\n",
       "      <td>1.11</td>\n",
       "    </tr>\n",
       "    <tr>\n",
       "      <th>1</th>\n",
       "      <td>yr</td>\n",
       "      <td>1.05</td>\n",
       "    </tr>\n",
       "    <tr>\n",
       "      <th>2</th>\n",
       "      <td>holiday</td>\n",
       "      <td>1.01</td>\n",
       "    </tr>\n",
       "  </tbody>\n",
       "</table>\n",
       "</div>"
      ],
      "text/plain": [
       "           Features    VIF\n",
       "0             const  53.22\n",
       "3              temp   3.09\n",
       "6     season_spring   2.65\n",
       "4               hum   2.13\n",
       "7     season_winter   2.08\n",
       "12  weathersit_good   1.74\n",
       "9          mnth_nov   1.47\n",
       "8          mnth_jul   1.32\n",
       "11   weathersit_bad   1.20\n",
       "5         windspeed   1.18\n",
       "10         mnth_sep   1.11\n",
       "1                yr   1.05\n",
       "2           holiday   1.01"
      ]
     },
     "execution_count": 64,
     "metadata": {},
     "output_type": "execute_result"
    }
   ],
   "source": [
    "# Calculate the VIFs for the model\n",
    "from statsmodels.stats.outliers_influence import variance_inflation_factor\n",
    "\n",
    "vif = pd.DataFrame()\n",
    "X = X_train_new\n",
    "vif['Features'] = X.columns\n",
    "vif['VIF'] = [variance_inflation_factor(X.values, i) for i in range(X.shape[1])]\n",
    "vif['VIF'] = round(vif['VIF'], 2)\n",
    "vif = vif.sort_values(by = \"VIF\", ascending = False)\n",
    "vif"
   ]
  },
  {
   "cell_type": "code",
   "execution_count": 65,
   "metadata": {},
   "outputs": [
    {
     "name": "stdout",
     "output_type": "stream",
     "text": [
      "                            OLS Regression Results                            \n",
      "==============================================================================\n",
      "Dep. Variable:                    cnt   R-squared:                       0.842\n",
      "Model:                            OLS   Adj. R-squared:                  0.839\n",
      "Method:                 Least Squares   F-statistic:                     241.1\n",
      "Date:                Tue, 05 Apr 2022   Prob (F-statistic):          3.22e-191\n",
      "Time:                        20:07:13   Log-Likelihood:                 509.27\n",
      "No. Observations:                 509   AIC:                            -994.5\n",
      "Df Residuals:                     497   BIC:                            -943.8\n",
      "Df Model:                          11                                         \n",
      "Covariance Type:            nonrobust                                         \n",
      "===================================================================================\n",
      "                      coef    std err          t      P>|t|      [0.025      0.975]\n",
      "-----------------------------------------------------------------------------------\n",
      "const               0.2546      0.029      8.792      0.000       0.198       0.312\n",
      "yr                  0.2221      0.008     27.128      0.000       0.206       0.238\n",
      "holiday            -0.0689      0.023     -2.999      0.003      -0.114      -0.024\n",
      "temp                0.4923      0.031     16.024      0.000       0.432       0.553\n",
      "hum                -0.1422      0.029     -4.860      0.000      -0.200      -0.085\n",
      "windspeed          -0.1274      0.022     -5.733      0.000      -0.171      -0.084\n",
      "season_spring      -0.1142      0.015     -7.581      0.000      -0.144      -0.085\n",
      "season_winter       0.0492      0.012      4.029      0.000       0.025       0.073\n",
      "mnth_jul           -0.0780      0.017     -4.519      0.000      -0.112      -0.044\n",
      "mnth_sep            0.0668      0.015      4.325      0.000       0.036       0.097\n",
      "weathersit_bad     -0.1753      0.025     -7.000      0.000      -0.225      -0.126\n",
      "weathersit_good     0.0450      0.011      4.171      0.000       0.024       0.066\n",
      "==============================================================================\n",
      "Omnibus:                       73.026   Durbin-Watson:                   2.062\n",
      "Prob(Omnibus):                  0.000   Jarque-Bera (JB):              196.035\n",
      "Skew:                          -0.709   Prob(JB):                     2.70e-43\n",
      "Kurtosis:                       5.689   Cond. No.                         16.3\n",
      "==============================================================================\n",
      "\n",
      "Notes:\n",
      "[1] Standard Errors assume that the covariance matrix of the errors is correctly specified.\n"
     ]
    }
   ],
   "source": [
    "# `mnth_nov` is insignificant(p-value>0.05) in presence of other variables; can be dropped\n",
    "X_train_new = X_train_new.drop(['mnth_nov'], axis = 1)\n",
    "\n",
    "# Rebuilding the model without `mnth_nov`\n",
    "\n",
    "# Adding a constant variable \n",
    "X_train_lm = sm.add_constant(X_train_new)\n",
    "\n",
    "# Running the linear model\n",
    "lm = sm.OLS(y_train,X_train_lm).fit()   \n",
    "\n",
    "#Let's see the summary of our linear model\n",
    "print(lm.summary())"
   ]
  },
  {
   "cell_type": "code",
   "execution_count": 66,
   "metadata": {},
   "outputs": [
    {
     "data": {
      "text/html": [
       "<div>\n",
       "<style scoped>\n",
       "    .dataframe tbody tr th:only-of-type {\n",
       "        vertical-align: middle;\n",
       "    }\n",
       "\n",
       "    .dataframe tbody tr th {\n",
       "        vertical-align: top;\n",
       "    }\n",
       "\n",
       "    .dataframe thead th {\n",
       "        text-align: right;\n",
       "    }\n",
       "</style>\n",
       "<table border=\"1\" class=\"dataframe\">\n",
       "  <thead>\n",
       "    <tr style=\"text-align: right;\">\n",
       "      <th></th>\n",
       "      <th>Features</th>\n",
       "      <th>VIF</th>\n",
       "    </tr>\n",
       "  </thead>\n",
       "  <tbody>\n",
       "    <tr>\n",
       "      <th>0</th>\n",
       "      <td>const</td>\n",
       "      <td>52.67</td>\n",
       "    </tr>\n",
       "    <tr>\n",
       "      <th>3</th>\n",
       "      <td>temp</td>\n",
       "      <td>3.03</td>\n",
       "    </tr>\n",
       "    <tr>\n",
       "      <th>6</th>\n",
       "      <td>season_spring</td>\n",
       "      <td>2.61</td>\n",
       "    </tr>\n",
       "    <tr>\n",
       "      <th>4</th>\n",
       "      <td>hum</td>\n",
       "      <td>2.12</td>\n",
       "    </tr>\n",
       "    <tr>\n",
       "      <th>7</th>\n",
       "      <td>season_winter</td>\n",
       "      <td>1.77</td>\n",
       "    </tr>\n",
       "    <tr>\n",
       "      <th>11</th>\n",
       "      <td>weathersit_good</td>\n",
       "      <td>1.74</td>\n",
       "    </tr>\n",
       "    <tr>\n",
       "      <th>8</th>\n",
       "      <td>mnth_jul</td>\n",
       "      <td>1.32</td>\n",
       "    </tr>\n",
       "    <tr>\n",
       "      <th>10</th>\n",
       "      <td>weathersit_bad</td>\n",
       "      <td>1.20</td>\n",
       "    </tr>\n",
       "    <tr>\n",
       "      <th>5</th>\n",
       "      <td>windspeed</td>\n",
       "      <td>1.18</td>\n",
       "    </tr>\n",
       "    <tr>\n",
       "      <th>9</th>\n",
       "      <td>mnth_sep</td>\n",
       "      <td>1.11</td>\n",
       "    </tr>\n",
       "    <tr>\n",
       "      <th>1</th>\n",
       "      <td>yr</td>\n",
       "      <td>1.05</td>\n",
       "    </tr>\n",
       "    <tr>\n",
       "      <th>2</th>\n",
       "      <td>holiday</td>\n",
       "      <td>1.01</td>\n",
       "    </tr>\n",
       "  </tbody>\n",
       "</table>\n",
       "</div>"
      ],
      "text/plain": [
       "           Features    VIF\n",
       "0             const  52.67\n",
       "3              temp   3.03\n",
       "6     season_spring   2.61\n",
       "4               hum   2.12\n",
       "7     season_winter   1.77\n",
       "11  weathersit_good   1.74\n",
       "8          mnth_jul   1.32\n",
       "10   weathersit_bad   1.20\n",
       "5         windspeed   1.18\n",
       "9          mnth_sep   1.11\n",
       "1                yr   1.05\n",
       "2           holiday   1.01"
      ]
     },
     "execution_count": 66,
     "metadata": {},
     "output_type": "execute_result"
    }
   ],
   "source": [
    "# Calculate the VIFs for the model\n",
    "from statsmodels.stats.outliers_influence import variance_inflation_factor\n",
    "\n",
    "vif = pd.DataFrame()\n",
    "X = X_train_new\n",
    "vif['Features'] = X.columns\n",
    "vif['VIF'] = [variance_inflation_factor(X.values, i) for i in range(X.shape[1])]\n",
    "vif['VIF'] = round(vif['VIF'], 2)\n",
    "vif = vif.sort_values(by = \"VIF\", ascending = False)\n",
    "vif"
   ]
  },
  {
   "cell_type": "code",
   "execution_count": 67,
   "metadata": {},
   "outputs": [
    {
     "data": {
      "text/html": [
       "<div>\n",
       "<style scoped>\n",
       "    .dataframe tbody tr th:only-of-type {\n",
       "        vertical-align: middle;\n",
       "    }\n",
       "\n",
       "    .dataframe tbody tr th {\n",
       "        vertical-align: top;\n",
       "    }\n",
       "\n",
       "    .dataframe thead th {\n",
       "        text-align: right;\n",
       "    }\n",
       "</style>\n",
       "<table border=\"1\" class=\"dataframe\">\n",
       "  <thead>\n",
       "    <tr style=\"text-align: right;\">\n",
       "      <th></th>\n",
       "      <th>Features</th>\n",
       "      <th>VIF</th>\n",
       "    </tr>\n",
       "  </thead>\n",
       "  <tbody>\n",
       "    <tr>\n",
       "      <th>2</th>\n",
       "      <td>temp</td>\n",
       "      <td>15.28</td>\n",
       "    </tr>\n",
       "    <tr>\n",
       "      <th>3</th>\n",
       "      <td>hum</td>\n",
       "      <td>10.77</td>\n",
       "    </tr>\n",
       "    <tr>\n",
       "      <th>4</th>\n",
       "      <td>windspeed</td>\n",
       "      <td>4.21</td>\n",
       "    </tr>\n",
       "    <tr>\n",
       "      <th>10</th>\n",
       "      <td>weathersit_good</td>\n",
       "      <td>3.43</td>\n",
       "    </tr>\n",
       "    <tr>\n",
       "      <th>5</th>\n",
       "      <td>season_spring</td>\n",
       "      <td>2.53</td>\n",
       "    </tr>\n",
       "    <tr>\n",
       "      <th>0</th>\n",
       "      <td>yr</td>\n",
       "      <td>2.07</td>\n",
       "    </tr>\n",
       "    <tr>\n",
       "      <th>6</th>\n",
       "      <td>season_winter</td>\n",
       "      <td>2.02</td>\n",
       "    </tr>\n",
       "    <tr>\n",
       "      <th>7</th>\n",
       "      <td>mnth_jul</td>\n",
       "      <td>1.43</td>\n",
       "    </tr>\n",
       "    <tr>\n",
       "      <th>8</th>\n",
       "      <td>mnth_sep</td>\n",
       "      <td>1.21</td>\n",
       "    </tr>\n",
       "    <tr>\n",
       "      <th>9</th>\n",
       "      <td>weathersit_bad</td>\n",
       "      <td>1.21</td>\n",
       "    </tr>\n",
       "    <tr>\n",
       "      <th>1</th>\n",
       "      <td>holiday</td>\n",
       "      <td>1.04</td>\n",
       "    </tr>\n",
       "  </tbody>\n",
       "</table>\n",
       "</div>"
      ],
      "text/plain": [
       "           Features    VIF\n",
       "2              temp  15.28\n",
       "3               hum  10.77\n",
       "4         windspeed   4.21\n",
       "10  weathersit_good   3.43\n",
       "5     season_spring   2.53\n",
       "0                yr   2.07\n",
       "6     season_winter   2.02\n",
       "7          mnth_jul   1.43\n",
       "8          mnth_sep   1.21\n",
       "9    weathersit_bad   1.21\n",
       "1           holiday   1.04"
      ]
     },
     "execution_count": 67,
     "metadata": {},
     "output_type": "execute_result"
    }
   ],
   "source": [
    "X_train_new = X_train_new.drop(['const'], axis=1)\n",
    "# Calculate the VIFs for the model\n",
    "from statsmodels.stats.outliers_influence import variance_inflation_factor\n",
    "\n",
    "vif = pd.DataFrame()\n",
    "X = X_train_new\n",
    "vif['Features'] = X.columns\n",
    "vif['VIF'] = [variance_inflation_factor(X.values, i) for i in range(X.shape[1])]\n",
    "vif['VIF'] = round(vif['VIF'], 2)\n",
    "vif = vif.sort_values(by = \"VIF\", ascending = False)\n",
    "vif"
   ]
  },
  {
   "cell_type": "code",
   "execution_count": 68,
   "metadata": {},
   "outputs": [
    {
     "name": "stdout",
     "output_type": "stream",
     "text": [
      "                            OLS Regression Results                            \n",
      "==============================================================================\n",
      "Dep. Variable:                    cnt   R-squared:                       0.835\n",
      "Model:                            OLS   Adj. R-squared:                  0.831\n",
      "Method:                 Least Squares   F-statistic:                     251.4\n",
      "Date:                Tue, 05 Apr 2022   Prob (F-statistic):          1.94e-187\n",
      "Time:                        20:07:14   Log-Likelihood:                 497.46\n",
      "No. Observations:                 509   AIC:                            -972.9\n",
      "Df Residuals:                     498   BIC:                            -926.4\n",
      "Df Model:                          10                                         \n",
      "Covariance Type:            nonrobust                                         \n",
      "===================================================================================\n",
      "                      coef    std err          t      P>|t|      [0.025      0.975]\n",
      "-----------------------------------------------------------------------------------\n",
      "const               0.1685      0.023      7.195      0.000       0.122       0.215\n",
      "yr                  0.2291      0.008     27.783      0.000       0.213       0.245\n",
      "holiday            -0.0707      0.023     -3.011      0.003      -0.117      -0.025\n",
      "temp                0.4554      0.030     14.962      0.000       0.396       0.515\n",
      "windspeed          -0.0961      0.022     -4.420      0.000      -0.139      -0.053\n",
      "season_spring      -0.1197      0.015     -7.790      0.000      -0.150      -0.089\n",
      "season_winter       0.0392      0.012      3.184      0.002       0.015       0.063\n",
      "mnth_jul           -0.0641      0.017     -3.684      0.000      -0.098      -0.030\n",
      "mnth_sep            0.0624      0.016      3.956      0.000       0.031       0.093\n",
      "weathersit_bad     -0.2099      0.025     -8.549      0.000      -0.258      -0.162\n",
      "weathersit_good     0.0773      0.009      8.904      0.000       0.060       0.094\n",
      "==============================================================================\n",
      "Omnibus:                       73.567   Durbin-Watson:                   2.087\n",
      "Prob(Omnibus):                  0.000   Jarque-Bera (JB):              196.118\n",
      "Skew:                          -0.717   Prob(JB):                     2.59e-43\n",
      "Kurtosis:                       5.682   Cond. No.                         14.8\n",
      "==============================================================================\n",
      "\n",
      "Notes:\n",
      "[1] Standard Errors assume that the covariance matrix of the errors is correctly specified.\n"
     ]
    }
   ],
   "source": [
    "# `hum` is insignificant(high VIF value) in presence of other variables; can be dropped\n",
    "X_train_new = X_train_new.drop(['hum'], axis = 1)\n",
    "\n",
    "# Rebuilding the model without `hum`\n",
    "\n",
    "# Adding a constant variable \n",
    "X_train_lm = sm.add_constant(X_train_new)\n",
    "\n",
    "# Running the linear model\n",
    "lm = sm.OLS(y_train,X_train_lm).fit()   \n",
    "\n",
    "#Let's see the summary of our linear model\n",
    "print(lm.summary())"
   ]
  },
  {
   "cell_type": "code",
   "execution_count": 69,
   "metadata": {},
   "outputs": [
    {
     "data": {
      "text/html": [
       "<div>\n",
       "<style scoped>\n",
       "    .dataframe tbody tr th:only-of-type {\n",
       "        vertical-align: middle;\n",
       "    }\n",
       "\n",
       "    .dataframe tbody tr th {\n",
       "        vertical-align: top;\n",
       "    }\n",
       "\n",
       "    .dataframe thead th {\n",
       "        text-align: right;\n",
       "    }\n",
       "</style>\n",
       "<table border=\"1\" class=\"dataframe\">\n",
       "  <thead>\n",
       "    <tr style=\"text-align: right;\">\n",
       "      <th></th>\n",
       "      <th>Features</th>\n",
       "      <th>VIF</th>\n",
       "    </tr>\n",
       "  </thead>\n",
       "  <tbody>\n",
       "    <tr>\n",
       "      <th>2</th>\n",
       "      <td>temp</td>\n",
       "      <td>5.64</td>\n",
       "    </tr>\n",
       "    <tr>\n",
       "      <th>3</th>\n",
       "      <td>windspeed</td>\n",
       "      <td>4.21</td>\n",
       "    </tr>\n",
       "    <tr>\n",
       "      <th>9</th>\n",
       "      <td>weathersit_good</td>\n",
       "      <td>2.68</td>\n",
       "    </tr>\n",
       "    <tr>\n",
       "      <th>0</th>\n",
       "      <td>yr</td>\n",
       "      <td>2.06</td>\n",
       "    </tr>\n",
       "    <tr>\n",
       "      <th>4</th>\n",
       "      <td>season_spring</td>\n",
       "      <td>1.70</td>\n",
       "    </tr>\n",
       "    <tr>\n",
       "      <th>5</th>\n",
       "      <td>season_winter</td>\n",
       "      <td>1.40</td>\n",
       "    </tr>\n",
       "    <tr>\n",
       "      <th>6</th>\n",
       "      <td>mnth_jul</td>\n",
       "      <td>1.36</td>\n",
       "    </tr>\n",
       "    <tr>\n",
       "      <th>7</th>\n",
       "      <td>mnth_sep</td>\n",
       "      <td>1.20</td>\n",
       "    </tr>\n",
       "    <tr>\n",
       "      <th>8</th>\n",
       "      <td>weathersit_bad</td>\n",
       "      <td>1.14</td>\n",
       "    </tr>\n",
       "    <tr>\n",
       "      <th>1</th>\n",
       "      <td>holiday</td>\n",
       "      <td>1.04</td>\n",
       "    </tr>\n",
       "  </tbody>\n",
       "</table>\n",
       "</div>"
      ],
      "text/plain": [
       "          Features   VIF\n",
       "2             temp  5.64\n",
       "3        windspeed  4.21\n",
       "9  weathersit_good  2.68\n",
       "0               yr  2.06\n",
       "4    season_spring  1.70\n",
       "5    season_winter  1.40\n",
       "6         mnth_jul  1.36\n",
       "7         mnth_sep  1.20\n",
       "8   weathersit_bad  1.14\n",
       "1          holiday  1.04"
      ]
     },
     "execution_count": 69,
     "metadata": {},
     "output_type": "execute_result"
    }
   ],
   "source": [
    "# Calculate the VIFs for the new model\n",
    "from statsmodels.stats.outliers_influence import variance_inflation_factor\n",
    "\n",
    "vif = pd.DataFrame()\n",
    "X = X_train_new\n",
    "vif['Features'] = X.columns\n",
    "vif['VIF'] = [variance_inflation_factor(X.values, i) for i in range(X.shape[1])]\n",
    "vif['VIF'] = round(vif['VIF'], 2)\n",
    "vif = vif.sort_values(by = \"VIF\", ascending = False)\n",
    "vif"
   ]
  },
  {
   "cell_type": "code",
   "execution_count": 70,
   "metadata": {},
   "outputs": [
    {
     "name": "stdout",
     "output_type": "stream",
     "text": [
      "                            OLS Regression Results                            \n",
      "==============================================================================\n",
      "Dep. Variable:                    cnt   R-squared:                       0.760\n",
      "Model:                            OLS   Adj. R-squared:                  0.756\n",
      "Method:                 Least Squares   F-statistic:                     175.9\n",
      "Date:                Tue, 05 Apr 2022   Prob (F-statistic):          1.37e-148\n",
      "Time:                        20:07:14   Log-Likelihood:                 402.98\n",
      "No. Observations:                 509   AIC:                            -786.0\n",
      "Df Residuals:                     499   BIC:                            -743.6\n",
      "Df Model:                           9                                         \n",
      "Covariance Type:            nonrobust                                         \n",
      "===================================================================================\n",
      "                      coef    std err          t      P>|t|      [0.025      0.975]\n",
      "-----------------------------------------------------------------------------------\n",
      "const               0.4620      0.015     30.014      0.000       0.432       0.492\n",
      "yr                  0.2436      0.010     24.738      0.000       0.224       0.263\n",
      "holiday            -0.0704      0.028     -2.495      0.013      -0.126      -0.015\n",
      "windspeed          -0.1188      0.026     -4.552      0.000      -0.170      -0.068\n",
      "season_spring      -0.2842      0.013    -22.036      0.000      -0.310      -0.259\n",
      "season_winter      -0.0576      0.013     -4.573      0.000      -0.082      -0.033\n",
      "mnth_jul            0.0266      0.020      1.357      0.175      -0.012       0.065\n",
      "mnth_sep            0.0981      0.019      5.234      0.000       0.061       0.135\n",
      "weathersit_bad     -0.2144      0.030     -7.260      0.000      -0.272      -0.156\n",
      "weathersit_good     0.0886      0.010      8.516      0.000       0.068       0.109\n",
      "==============================================================================\n",
      "Omnibus:                       36.464   Durbin-Watson:                   1.986\n",
      "Prob(Omnibus):                  0.000   Jarque-Bera (JB):               80.611\n",
      "Skew:                          -0.395   Prob(JB):                     3.13e-18\n",
      "Kurtosis:                       4.782   Cond. No.                         8.90\n",
      "==============================================================================\n",
      "\n",
      "Notes:\n",
      "[1] Standard Errors assume that the covariance matrix of the errors is correctly specified.\n"
     ]
    }
   ],
   "source": [
    "# `temp` is insignificant in presence of other variables; can be dropped\n",
    "X_train_new1 = X_train_new.drop(['temp'], axis = 1)\n",
    "\n",
    "# Rebuilding the model without `temp`\n",
    "\n",
    "# Adding a constant variable \n",
    "X_train_lm1 = sm.add_constant(X_train_new1)\n",
    "\n",
    "# Running the linear model\n",
    "lm1 = sm.OLS(y_train,X_train_lm1).fit()   \n",
    "\n",
    "#Let's see the summary of our linear model\n",
    "print(lm1.summary())"
   ]
  },
  {
   "cell_type": "code",
   "execution_count": 71,
   "metadata": {},
   "outputs": [
    {
     "data": {
      "text/html": [
       "<div>\n",
       "<style scoped>\n",
       "    .dataframe tbody tr th:only-of-type {\n",
       "        vertical-align: middle;\n",
       "    }\n",
       "\n",
       "    .dataframe tbody tr th {\n",
       "        vertical-align: top;\n",
       "    }\n",
       "\n",
       "    .dataframe thead th {\n",
       "        text-align: right;\n",
       "    }\n",
       "</style>\n",
       "<table border=\"1\" class=\"dataframe\">\n",
       "  <thead>\n",
       "    <tr style=\"text-align: right;\">\n",
       "      <th></th>\n",
       "      <th>Features</th>\n",
       "      <th>VIF</th>\n",
       "    </tr>\n",
       "  </thead>\n",
       "  <tbody>\n",
       "    <tr>\n",
       "      <th>2</th>\n",
       "      <td>windspeed</td>\n",
       "      <td>2.92</td>\n",
       "    </tr>\n",
       "    <tr>\n",
       "      <th>8</th>\n",
       "      <td>weathersit_good</td>\n",
       "      <td>2.22</td>\n",
       "    </tr>\n",
       "    <tr>\n",
       "      <th>0</th>\n",
       "      <td>yr</td>\n",
       "      <td>1.82</td>\n",
       "    </tr>\n",
       "    <tr>\n",
       "      <th>3</th>\n",
       "      <td>season_spring</td>\n",
       "      <td>1.53</td>\n",
       "    </tr>\n",
       "    <tr>\n",
       "      <th>4</th>\n",
       "      <td>season_winter</td>\n",
       "      <td>1.40</td>\n",
       "    </tr>\n",
       "    <tr>\n",
       "      <th>5</th>\n",
       "      <td>mnth_jul</td>\n",
       "      <td>1.15</td>\n",
       "    </tr>\n",
       "    <tr>\n",
       "      <th>7</th>\n",
       "      <td>weathersit_bad</td>\n",
       "      <td>1.13</td>\n",
       "    </tr>\n",
       "    <tr>\n",
       "      <th>6</th>\n",
       "      <td>mnth_sep</td>\n",
       "      <td>1.08</td>\n",
       "    </tr>\n",
       "    <tr>\n",
       "      <th>1</th>\n",
       "      <td>holiday</td>\n",
       "      <td>1.04</td>\n",
       "    </tr>\n",
       "  </tbody>\n",
       "</table>\n",
       "</div>"
      ],
      "text/plain": [
       "          Features   VIF\n",
       "2        windspeed  2.92\n",
       "8  weathersit_good  2.22\n",
       "0               yr  1.82\n",
       "3    season_spring  1.53\n",
       "4    season_winter  1.40\n",
       "5         mnth_jul  1.15\n",
       "7   weathersit_bad  1.13\n",
       "6         mnth_sep  1.08\n",
       "1          holiday  1.04"
      ]
     },
     "execution_count": 71,
     "metadata": {},
     "output_type": "execute_result"
    }
   ],
   "source": [
    "# Calculate the VIFs for the new model\n",
    "from statsmodels.stats.outliers_influence import variance_inflation_factor\n",
    "\n",
    "vif = pd.DataFrame()\n",
    "X = X_train_new1\n",
    "vif['Features'] = X.columns\n",
    "vif['VIF'] = [variance_inflation_factor(X.values, i) for i in range(X.shape[1])]\n",
    "vif['VIF'] = round(vif['VIF'], 2)\n",
    "vif = vif.sort_values(by = \"VIF\", ascending = False)\n",
    "vif"
   ]
  },
  {
   "cell_type": "code",
   "execution_count": 72,
   "metadata": {},
   "outputs": [],
   "source": [
    "# there is sudden decrease in R-squared when temp is dropped. So keep this variable. though VIF is>5"
   ]
  },
  {
   "cell_type": "markdown",
   "metadata": {},
   "source": [
    "### Residual Analysis of the train data\n",
    "\n",
    "So, now to check if the error terms are also normally distributed (which is infact, one of the major assumptions of linear regression), let us plot the histogram of the error terms and see what it looks like."
   ]
  },
  {
   "cell_type": "code",
   "execution_count": 73,
   "metadata": {},
   "outputs": [],
   "source": [
    "y_train_cnt = lm.predict(X_train_lm)"
   ]
  },
  {
   "cell_type": "code",
   "execution_count": 74,
   "metadata": {},
   "outputs": [
    {
     "data": {
      "text/plain": [
       "Text(0.5, 0, 'Errors')"
      ]
     },
     "execution_count": 74,
     "metadata": {},
     "output_type": "execute_result"
    },
    {
     "data": {
      "image/png": "[encoded data removed]",
      "text/plain": [
       "<Figure size 432x288 with 1 Axes>"
      ]
     },
     "metadata": {
      "needs_background": "light"
     },
     "output_type": "display_data"
    }
   ],
   "source": [
    "# Plot the histogram of the error terms\n",
    "fig = plt.figure()\n",
    "sns.distplot((y_train - y_train_cnt), bins = 20)\n",
    "fig.suptitle('Error Terms', fontsize = 20)                  # Plot heading \n",
    "plt.xlabel('Errors', fontsize = 18)                         # X-label"
   ]
  },
  {
   "cell_type": "markdown",
   "metadata": {},
   "source": [
    "### Making Predictions Using the Final Model\n",
    "\n",
    "Now that we have fitted the model and checked the normality of error terms, it's time to go ahead and make predictions using the final model."
   ]
  },
  {
   "cell_type": "markdown",
   "metadata": {},
   "source": [
    "#### Applying the scaling on the test sets"
   ]
  },
  {
   "cell_type": "code",
   "execution_count": 75,
   "metadata": {},
   "outputs": [],
   "source": [
    "num_vars = ['temp','atemp','hum','windspeed','cnt']\n",
    "df_test[num_vars] = scaler.transform(df_test[num_vars])"
   ]
  },
  {
   "cell_type": "code",
   "execution_count": 76,
   "metadata": {},
   "outputs": [
    {
     "data": {
      "text/html": [
       "<div>\n",
       "<style scoped>\n",
       "    .dataframe tbody tr th:only-of-type {\n",
       "        vertical-align: middle;\n",
       "    }\n",
       "\n",
       "    .dataframe tbody tr th {\n",
       "        vertical-align: top;\n",
       "    }\n",
       "\n",
       "    .dataframe thead th {\n",
       "        text-align: right;\n",
       "    }\n",
       "</style>\n",
       "<table border=\"1\" class=\"dataframe\">\n",
       "  <thead>\n",
       "    <tr style=\"text-align: right;\">\n",
       "      <th></th>\n",
       "      <th>yr</th>\n",
       "      <th>holiday</th>\n",
       "      <th>workingday</th>\n",
       "      <th>temp</th>\n",
       "      <th>atemp</th>\n",
       "      <th>hum</th>\n",
       "      <th>windspeed</th>\n",
       "      <th>cnt</th>\n",
       "      <th>season_spring</th>\n",
       "      <th>season_summer</th>\n",
       "      <th>...</th>\n",
       "      <th>mnth_sep</th>\n",
       "      <th>weekday_mon</th>\n",
       "      <th>weekday_sat</th>\n",
       "      <th>weekday_sun</th>\n",
       "      <th>weekday_thu</th>\n",
       "      <th>weekday_tue</th>\n",
       "      <th>weekday_wed</th>\n",
       "      <th>weathersit_bad</th>\n",
       "      <th>weathersit_good</th>\n",
       "      <th>weathersit_moderate</th>\n",
       "    </tr>\n",
       "  </thead>\n",
       "  <tbody>\n",
       "    <tr>\n",
       "      <th>count</th>\n",
       "      <td>219.000000</td>\n",
       "      <td>219.000000</td>\n",
       "      <td>219.000000</td>\n",
       "      <td>219.000000</td>\n",
       "      <td>219.000000</td>\n",
       "      <td>219.000000</td>\n",
       "      <td>219.000000</td>\n",
       "      <td>219.000000</td>\n",
       "      <td>219.000000</td>\n",
       "      <td>219.000000</td>\n",
       "      <td>...</td>\n",
       "      <td>219.000000</td>\n",
       "      <td>219.000000</td>\n",
       "      <td>219.000000</td>\n",
       "      <td>219.000000</td>\n",
       "      <td>219.000000</td>\n",
       "      <td>219.000000</td>\n",
       "      <td>219.000000</td>\n",
       "      <td>219.000000</td>\n",
       "      <td>219.000000</td>\n",
       "      <td>219.000000</td>\n",
       "    </tr>\n",
       "    <tr>\n",
       "      <th>mean</th>\n",
       "      <td>0.488584</td>\n",
       "      <td>0.022831</td>\n",
       "      <td>0.698630</td>\n",
       "      <td>0.560551</td>\n",
       "      <td>0.547691</td>\n",
       "      <td>0.503549</td>\n",
       "      <td>0.357948</td>\n",
       "      <td>0.527927</td>\n",
       "      <td>0.251142</td>\n",
       "      <td>0.269406</td>\n",
       "      <td>...</td>\n",
       "      <td>0.086758</td>\n",
       "      <td>0.136986</td>\n",
       "      <td>0.155251</td>\n",
       "      <td>0.132420</td>\n",
       "      <td>0.150685</td>\n",
       "      <td>0.146119</td>\n",
       "      <td>0.132420</td>\n",
       "      <td>0.018265</td>\n",
       "      <td>0.694064</td>\n",
       "      <td>0.287671</td>\n",
       "    </tr>\n",
       "    <tr>\n",
       "      <th>std</th>\n",
       "      <td>0.501015</td>\n",
       "      <td>0.149707</td>\n",
       "      <td>0.459904</td>\n",
       "      <td>0.232600</td>\n",
       "      <td>0.223886</td>\n",
       "      <td>0.182531</td>\n",
       "      <td>0.183809</td>\n",
       "      <td>0.217318</td>\n",
       "      <td>0.434663</td>\n",
       "      <td>0.444668</td>\n",
       "      <td>...</td>\n",
       "      <td>0.282125</td>\n",
       "      <td>0.344621</td>\n",
       "      <td>0.362974</td>\n",
       "      <td>0.339723</td>\n",
       "      <td>0.358561</td>\n",
       "      <td>0.354034</td>\n",
       "      <td>0.339723</td>\n",
       "      <td>0.134214</td>\n",
       "      <td>0.461858</td>\n",
       "      <td>0.453714</td>\n",
       "    </tr>\n",
       "    <tr>\n",
       "      <th>min</th>\n",
       "      <td>0.000000</td>\n",
       "      <td>0.000000</td>\n",
       "      <td>0.000000</td>\n",
       "      <td>0.046591</td>\n",
       "      <td>0.026455</td>\n",
       "      <td>0.070765</td>\n",
       "      <td>-0.049874</td>\n",
       "      <td>0.055683</td>\n",
       "      <td>0.000000</td>\n",
       "      <td>0.000000</td>\n",
       "      <td>...</td>\n",
       "      <td>0.000000</td>\n",
       "      <td>0.000000</td>\n",
       "      <td>0.000000</td>\n",
       "      <td>0.000000</td>\n",
       "      <td>0.000000</td>\n",
       "      <td>0.000000</td>\n",
       "      <td>0.000000</td>\n",
       "      <td>0.000000</td>\n",
       "      <td>0.000000</td>\n",
       "      <td>0.000000</td>\n",
       "    </tr>\n",
       "    <tr>\n",
       "      <th>25%</th>\n",
       "      <td>0.000000</td>\n",
       "      <td>0.000000</td>\n",
       "      <td>0.000000</td>\n",
       "      <td>0.368668</td>\n",
       "      <td>0.368525</td>\n",
       "      <td>0.351877</td>\n",
       "      <td>0.232049</td>\n",
       "      <td>0.380177</td>\n",
       "      <td>0.000000</td>\n",
       "      <td>0.000000</td>\n",
       "      <td>...</td>\n",
       "      <td>0.000000</td>\n",
       "      <td>0.000000</td>\n",
       "      <td>0.000000</td>\n",
       "      <td>0.000000</td>\n",
       "      <td>0.000000</td>\n",
       "      <td>0.000000</td>\n",
       "      <td>0.000000</td>\n",
       "      <td>0.000000</td>\n",
       "      <td>0.000000</td>\n",
       "      <td>0.000000</td>\n",
       "    </tr>\n",
       "    <tr>\n",
       "      <th>50%</th>\n",
       "      <td>0.000000</td>\n",
       "      <td>0.000000</td>\n",
       "      <td>1.000000</td>\n",
       "      <td>0.564921</td>\n",
       "      <td>0.567477</td>\n",
       "      <td>0.499999</td>\n",
       "      <td>0.336405</td>\n",
       "      <td>0.530028</td>\n",
       "      <td>0.000000</td>\n",
       "      <td>0.000000</td>\n",
       "      <td>...</td>\n",
       "      <td>0.000000</td>\n",
       "      <td>0.000000</td>\n",
       "      <td>0.000000</td>\n",
       "      <td>0.000000</td>\n",
       "      <td>0.000000</td>\n",
       "      <td>0.000000</td>\n",
       "      <td>0.000000</td>\n",
       "      <td>0.000000</td>\n",
       "      <td>1.000000</td>\n",
       "      <td>0.000000</td>\n",
       "    </tr>\n",
       "    <tr>\n",
       "      <th>75%</th>\n",
       "      <td>1.000000</td>\n",
       "      <td>0.000000</td>\n",
       "      <td>1.000000</td>\n",
       "      <td>0.774153</td>\n",
       "      <td>0.742802</td>\n",
       "      <td>0.641153</td>\n",
       "      <td>0.450008</td>\n",
       "      <td>0.685918</td>\n",
       "      <td>0.500000</td>\n",
       "      <td>1.000000</td>\n",
       "      <td>...</td>\n",
       "      <td>0.000000</td>\n",
       "      <td>0.000000</td>\n",
       "      <td>0.000000</td>\n",
       "      <td>0.000000</td>\n",
       "      <td>0.000000</td>\n",
       "      <td>0.000000</td>\n",
       "      <td>0.000000</td>\n",
       "      <td>0.000000</td>\n",
       "      <td>1.000000</td>\n",
       "      <td>1.000000</td>\n",
       "    </tr>\n",
       "    <tr>\n",
       "      <th>max</th>\n",
       "      <td>1.000000</td>\n",
       "      <td>1.000000</td>\n",
       "      <td>1.000000</td>\n",
       "      <td>0.984424</td>\n",
       "      <td>1.019437</td>\n",
       "      <td>0.954151</td>\n",
       "      <td>0.951690</td>\n",
       "      <td>0.981707</td>\n",
       "      <td>1.000000</td>\n",
       "      <td>1.000000</td>\n",
       "      <td>...</td>\n",
       "      <td>1.000000</td>\n",
       "      <td>1.000000</td>\n",
       "      <td>1.000000</td>\n",
       "      <td>1.000000</td>\n",
       "      <td>1.000000</td>\n",
       "      <td>1.000000</td>\n",
       "      <td>1.000000</td>\n",
       "      <td>1.000000</td>\n",
       "      <td>1.000000</td>\n",
       "      <td>1.000000</td>\n",
       "    </tr>\n",
       "  </tbody>\n",
       "</table>\n",
       "<p>8 rows × 31 columns</p>\n",
       "</div>"
      ],
      "text/plain": [
       "               yr     holiday  workingday        temp       atemp         hum  \\\n",
       "count  219.000000  219.000000  219.000000  219.000000  219.000000  219.000000   \n",
       "mean     0.488584    0.022831    0.698630    0.560551    0.547691    0.503549   \n",
       "std      0.501015    0.149707    0.459904    0.232600    0.223886    0.182531   \n",
       "min      0.000000    0.000000    0.000000    0.046591    0.026455    0.070765   \n",
       "25%      0.000000    0.000000    0.000000    0.368668    0.368525    0.351877   \n",
       "50%      0.000000    0.000000    1.000000    0.564921    0.567477    0.499999   \n",
       "75%      1.000000    0.000000    1.000000    0.774153    0.742802    0.641153   \n",
       "max      1.000000    1.000000    1.000000    0.984424    1.019437    0.954151   \n",
       "\n",
       "        windspeed         cnt  season_spring  season_summer  ...    mnth_sep  \\\n",
       "count  219.000000  219.000000     219.000000     219.000000  ...  219.000000   \n",
       "mean     0.357948    0.527927       0.251142       0.269406  ...    0.086758   \n",
       "std      0.183809    0.217318       0.434663       0.444668  ...    0.282125   \n",
       "min     -0.049874    0.055683       0.000000       0.000000  ...    0.000000   \n",
       "25%      0.232049    0.380177       0.000000       0.000000  ...    0.000000   \n",
       "50%      0.336405    0.530028       0.000000       0.000000  ...    0.000000   \n",
       "75%      0.450008    0.685918       0.500000       1.000000  ...    0.000000   \n",
       "max      0.951690    0.981707       1.000000       1.000000  ...    1.000000   \n",
       "\n",
       "       weekday_mon  weekday_sat  weekday_sun  weekday_thu  weekday_tue  \\\n",
       "count   219.000000   219.000000   219.000000   219.000000   219.000000   \n",
       "mean      0.136986     0.155251     0.132420     0.150685     0.146119   \n",
       "std       0.344621     0.362974     0.339723     0.358561     0.354034   \n",
       "min       0.000000     0.000000     0.000000     0.000000     0.000000   \n",
       "25%       0.000000     0.000000     0.000000     0.000000     0.000000   \n",
       "50%       0.000000     0.000000     0.000000     0.000000     0.000000   \n",
       "75%       0.000000     0.000000     0.000000     0.000000     0.000000   \n",
       "max       1.000000     1.000000     1.000000     1.000000     1.000000   \n",
       "\n",
       "       weekday_wed  weathersit_bad  weathersit_good  weathersit_moderate  \n",
       "count   219.000000      219.000000       219.000000           219.000000  \n",
       "mean      0.132420        0.018265         0.694064             0.287671  \n",
       "std       0.339723        0.134214         0.461858             0.453714  \n",
       "min       0.000000        0.000000         0.000000             0.000000  \n",
       "25%       0.000000        0.000000         0.000000             0.000000  \n",
       "50%       0.000000        0.000000         1.000000             0.000000  \n",
       "75%       0.000000        0.000000         1.000000             1.000000  \n",
       "max       1.000000        1.000000         1.000000             1.000000  \n",
       "\n",
       "[8 rows x 31 columns]"
      ]
     },
     "execution_count": 76,
     "metadata": {},
     "output_type": "execute_result"
    }
   ],
   "source": [
    "df_test.describe()"
   ]
  },
  {
   "cell_type": "markdown",
   "metadata": {},
   "source": [
    "#### Dividing into X_test and y_test"
   ]
  },
  {
   "cell_type": "code",
   "execution_count": 77,
   "metadata": {},
   "outputs": [],
   "source": [
    "y_test = df_test.pop('cnt')\n",
    "X_test = df_test"
   ]
  },
  {
   "cell_type": "code",
   "execution_count": 78,
   "metadata": {},
   "outputs": [],
   "source": [
    "# Now let's use our model to make predictions.\n",
    "\n",
    "# Creating X_test_new dataframe by dropping variables from X_test\n",
    "X_test_new = X_test[X_train_new.columns]\n",
    "\n",
    "# Adding a constant variable \n",
    "X_test_new = sm.add_constant(X_test_new)"
   ]
  },
  {
   "cell_type": "code",
   "execution_count": 79,
   "metadata": {},
   "outputs": [],
   "source": [
    "# Making predictions using the fourth model\n",
    "\n",
    "y_pred = lm.predict(X_test_new)"
   ]
  },
  {
   "cell_type": "markdown",
   "metadata": {},
   "source": [
    "### Model Evaluation\n",
    "\n",
    "Let's now plot the graph for actual versus predicted values."
   ]
  },
  {
   "cell_type": "code",
   "execution_count": 80,
   "metadata": {
    "scrolled": true
   },
   "outputs": [
    {
     "data": {
      "text/plain": [
       "Text(0, 0.5, 'y_pred')"
      ]
     },
     "execution_count": 80,
     "metadata": {},
     "output_type": "execute_result"
    },
    {
     "data": {
      "image/png": "[encoded data removed]",
      "text/plain": [
       "<Figure size 432x288 with 1 Axes>"
      ]
     },
     "metadata": {
      "needs_background": "light"
     },
     "output_type": "display_data"
    }
   ],
   "source": [
    "# Plotting y_test and y_pred to understand the spread. \n",
    "fig = plt.figure()\n",
    "plt.scatter(y_test,y_pred)\n",
    "fig.suptitle('y_test vs y_pred', fontsize=20)              # Plot heading \n",
    "plt.xlabel('y_test', fontsize=18)                          # X-label\n",
    "plt.ylabel('y_pred', fontsize=16)                          # Y-label"
   ]
  },
  {
   "cell_type": "code",
   "execution_count": 81,
   "metadata": {
    "scrolled": true
   },
   "outputs": [
    {
     "data": {
      "image/png": "[encoded data removed]",
      "text/plain": [
       "<Figure size 432x288 with 1 Axes>"
      ]
     },
     "metadata": {
      "needs_background": "light"
     },
     "output_type": "display_data"
    }
   ],
   "source": [
    "# scatter plot for the check - to validate Homoscedasticity\n",
    "residual = (y_train - y_train_cnt)\n",
    "plt.scatter(y_train,residual)\n",
    "plt.ylabel(\"y_train\")\n",
    "plt.xlabel(\"Residual\")\n",
    "plt.show()"
   ]
  },
  {
   "cell_type": "code",
   "execution_count": 82,
   "metadata": {},
   "outputs": [
    {
     "data": {
      "text/plain": [
       "ShapiroResult(statistic=0.9552943110466003, pvalue=2.693764482308847e-11)"
      ]
     },
     "execution_count": 82,
     "metadata": {},
     "output_type": "execute_result"
    }
   ],
   "source": [
    "from scipy.stats import shapiro\n",
    "shapiro(residual)"
   ]
  },
  {
   "cell_type": "code",
   "execution_count": 83,
   "metadata": {},
   "outputs": [
    {
     "data": {
      "text/plain": [
       "0.7960967525888478"
      ]
     },
     "execution_count": 83,
     "metadata": {},
     "output_type": "execute_result"
    }
   ],
   "source": [
    "from sklearn.metrics import r2_score\n",
    "r2_score(y_test, y_pred)"
   ]
  },
  {
   "cell_type": "markdown",
   "metadata": {},
   "source": [
    "### Interpreting Results"
   ]
  },
  {
   "cell_type": "code",
   "execution_count": 84,
   "metadata": {
    "scrolled": false
   },
   "outputs": [
    {
     "name": "stdout",
     "output_type": "stream",
     "text": [
      "                            OLS Regression Results                            \n",
      "==============================================================================\n",
      "Dep. Variable:                    cnt   R-squared:                       0.835\n",
      "Model:                            OLS   Adj. R-squared:                  0.831\n",
      "Method:                 Least Squares   F-statistic:                     251.4\n",
      "Date:                Tue, 05 Apr 2022   Prob (F-statistic):          1.94e-187\n",
      "Time:                        20:07:15   Log-Likelihood:                 497.46\n",
      "No. Observations:                 509   AIC:                            -972.9\n",
      "Df Residuals:                     498   BIC:                            -926.4\n",
      "Df Model:                          10                                         \n",
      "Covariance Type:            nonrobust                                         \n",
      "===================================================================================\n",
      "                      coef    std err          t      P>|t|      [0.025      0.975]\n",
      "-----------------------------------------------------------------------------------\n",
      "const               0.1685      0.023      7.195      0.000       0.122       0.215\n",
      "yr                  0.2291      0.008     27.783      0.000       0.213       0.245\n",
      "holiday            -0.0707      0.023     -3.011      0.003      -0.117      -0.025\n",
      "temp                0.4554      0.030     14.962      0.000       0.396       0.515\n",
      "windspeed          -0.0961      0.022     -4.420      0.000      -0.139      -0.053\n",
      "season_spring      -0.1197      0.015     -7.790      0.000      -0.150      -0.089\n",
      "season_winter       0.0392      0.012      3.184      0.002       0.015       0.063\n",
      "mnth_jul           -0.0641      0.017     -3.684      0.000      -0.098      -0.030\n",
      "mnth_sep            0.0624      0.016      3.956      0.000       0.031       0.093\n",
      "weathersit_bad     -0.2099      0.025     -8.549      0.000      -0.258      -0.162\n",
      "weathersit_good     0.0773      0.009      8.904      0.000       0.060       0.094\n",
      "==============================================================================\n",
      "Omnibus:                       73.567   Durbin-Watson:                   2.087\n",
      "Prob(Omnibus):                  0.000   Jarque-Bera (JB):              196.118\n",
      "Skew:                          -0.717   Prob(JB):                     2.59e-43\n",
      "Kurtosis:                       5.682   Cond. No.                         14.8\n",
      "==============================================================================\n",
      "\n",
      "Notes:\n",
      "[1] Standard Errors assume that the covariance matrix of the errors is correctly specified.\n"
     ]
    }
   ],
   "source": [
    "print(lm.summary())"
   ]
  },
  {
   "cell_type": "markdown",
   "metadata": {},
   "source": [
    "\n",
    "#### We can see that the equation of our best fitted line is:\n",
    "\n",
    "$ cnt= 0.1685 + 0.2291 \\times  yr + 0.4554  \\times  temp + 0.0392 \\times seasonwinter + 0.0624 \\times mnthsep + 0.0773 \\times weathersitgood -0.0707 \\times holiday - 0.0961 \\times windspeed - 0.1197 \\times seasonspring - 0.0641 \\times mnthjul - 0.2099 \\times weathersitbad $\n"
   ]
  },
  {
   "cell_type": "markdown",
   "metadata": {},
   "source": [
    "#### Inferences from EDA:\n",
    "- Below are few inferences that we made after performing EDA on the dataset:\n",
    "1.\tCount of bikes shared (CNT) has strong positive correlation with temp and atemp variables.\n",
    "2.\tBut temp and atemp are strongly positively correlated with each other. \n",
    "3.\tCNT has -ve correlation with humidity and windspeed but the strength correlation is not great.\n",
    "4.\tCount of total rental bikes is more in Fall season & less in Spring\n",
    "5.\tYear by year rented bikes share is increasing.\n",
    "6.\tRental bikes count is more during the mid of year but dip observed in July month.\n",
    "7.\tWhen the rains or snow fall is worse or severe bike sharing is very less.\n"
   ]
  },
  {
   "cell_type": "markdown",
   "metadata": {},
   "source": [
    "- Lets check if these inferences are valid by comparing them with the model equation\n",
    "1. Count of bikes shared (CNT) has strong positive correlation with temp and atemp variables.\n",
    "    - Note: coeffiecient of temp variable is high as per equation. So the above inference is valid.\n",
    "2. But temp and atemp are strongly positively correlated with each other. \n",
    "    - Note: temp and atemp leads to multicollienearity when they both present in model equaton. but only temp came over.\n",
    "3. CNT has -ve correlation with humidity and windspeed but the strength correlation is not great.\n",
    "    - Note: in equation humidity is not present but windspeed is there with -ve coefficient.\n",
    "4. Count of total rental bikes is more in Fall season & less in Spring\n",
    "    - Note: as per equation with increase in spring season bikes shared is getting decreased.\n",
    "5. Year by year rented bikes share is increasing.\n",
    "    - Note:  as per equation coeffiecient of yr variable is high. So the above inference is valid.\n",
    "6. Rental bikes count is more during the mid of year but dip observed in July month.\n",
    "    - Note:  as per equation mnth_jul has -ve coefficient.\n",
    "7. When the rains or snow fall is worse or severe bike sharing is very less.\n",
    "    - Note:  as per equation weathersit_bad has -ve coefficient."
   ]
  },
  {
   "cell_type": "markdown",
   "metadata": {},
   "source": [
    "\"So all the inferences we made during EDA are valid and matching with  the regression model equation.\""
   ]
  },
  {
   "cell_type": "markdown",
   "metadata": {},
   "source": [
    "#### Interpreting Model Equation"
   ]
  },
  {
   "cell_type": "markdown",
   "metadata": {},
   "source": [
    "As per the final model, the top 4 predictors that are significant in predicting the demand for shared bikes are:\n",
    "-\tTemperature (temp) - coefficient value ‘0.4554’\n",
    "    -\tThis indicates that a unit increase in temp variable increases the bikes shared count by 0.4554 units.\n",
    "-\tYear (yr) - A coefficient value ‘0.2291’ \n",
    "    -\tThis indicates that a unit increase in yr variable increases the bikes shared count by 0.2291 units.\n",
    "-\tWeather Situation (weathersit_bad) - A coefficient value ‘-0.2099’ \n",
    "    -\tThis indicates that w.r.t weathersit_severe, a unit increase in weathersit_bad variable decreases the bikes shared count by 0.2099 units.\n",
    "-\tSeason (season_spring) - A coefficient value of ‘0.1197’\n",
    "    -\tThis indicates that w.r.t season_fall, a unit increase in season_spring variable decreases the bikes shared count by 0.1197 units."
   ]
  },
  {
   "cell_type": "markdown",
   "metadata": {},
   "source": [
    "#### Suggestions to Business:"
   ]
  },
  {
   "cell_type": "markdown",
   "metadata": {},
   "source": [
    "- Business can consider temperature, year, weather, season as top 4 variables to predict bikes shared count.\n",
    "- Demand increases every year. During the mid months when temperatures are high (or snow/rainfall is less or absent) the demand for the bikes will be very high.\n",
    "- Though demand is high during the mid months, in July or when in the Spring seaon the demand sees a dip. Company can focus on this and plan a strategy to attract more bookings during July month and Spring.\n",
    "- On holidays, demand is less. With discounts or any other strategy company can improve the bookings during holidays."
   ]
  }
 ],
 "metadata": {
  "kernelspec": {
   "display_name": "Python 3 (ipykernel)",
   "language": "python",
   "name": "python3"
  },
  "language_info": {
   "codemirror_mode": {
    "name": "ipython",
    "version": 3
   },
   "file_extension": ".py",
   "mimetype": "text/x-python",
   "name": "python",
   "nbconvert_exporter": "python",
   "pygments_lexer": "ipython3",
   "version": "3.8.8"
  }
 },
 "nbformat": 4,
 "nbformat_minor": 2
}
